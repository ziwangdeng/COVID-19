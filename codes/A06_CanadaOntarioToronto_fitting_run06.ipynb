{
 "cells": [
  {
   "cell_type": "code",
   "execution_count": 1,
   "metadata": {},
   "outputs": [],
   "source": [
    "import pandas as pd\n",
    "import numpy as np\n",
    "import matplotlib.pyplot as plt\n",
    "from matplotlib import ticker \n",
    "import pycountry_convert as pc\n",
    "#import folium\n",
    "from datetime import datetime,date\n",
    "from scipy.interpolate import make_interp_spline, BSpline\n",
    "from lmfit import Minimizer, Parameters, report_fit\n",
    "import chart_studio.plotly as py\n",
    "\n",
    "%matplotlib inline\n",
    "\n",
    "import os\n",
    "\n",
    "import ipywidgets as widgets\n",
    "from ipywidgets import interact, interact_manual\n",
    "import cufflinks as cf"
   ]
  },
  {
   "cell_type": "code",
   "execution_count": 2,
   "metadata": {},
   "outputs": [],
   "source": [
    "def Cauchy_cumulative_hazard(x,loc,scale,decaybase):\n",
    "    decayterm=np.power(decaybase,(x-loc))\n",
    "    decayterm[np.where((x-loc)<0)]=1.0\n",
    "    z=(x-loc)/(scale*decayterm)\n",
    "    return -np.log(0.5 - np.arctan(z)/np.pi)\n",
    "\n",
    "# define objective function: returns the array to be minimized\n",
    "def Cauchy_cumulative_hazard_residual(params, x, data):\n",
    "    \"\"\"Model a decaying sine wave and subtract data.\"\"\"\n",
    "    amp = params['amp']\n",
    "    loc = params['loc']\n",
    "    scale = params['scale']\n",
    "    decaybase=params['decaybase']\n",
    "    decayterm=np.power(decaybase,(x-loc))\n",
    "    decayterm[np.where((x-loc)<0)]=1.0\n",
    "    z=(x-loc)/(scale*decayterm)\n",
    "    model = amp * (-np.log(0.5 - np.arctan(z)/np.pi))\n",
    "    return model - data"
   ]
  },
  {
   "cell_type": "code",
   "execution_count": 3,
   "metadata": {},
   "outputs": [
    {
     "data": {
      "text/plain": [
       "Index(['Date_health_region', 'Toronto', 'Ottawa', 'Ontario', 'CA'], dtype='object')"
      ]
     },
     "execution_count": 3,
     "metadata": {},
     "output_type": "execute_result"
    }
   ],
   "source": [
    "fn='data/COVID19/CanadaOntarioTorontCOVID-19ConfirmedCases.csv'\n",
    "CanadaOntarioToronto=pd.read_csv(fn)\n",
    "CanadaOntarioToronto.columns"
   ]
  },
  {
   "cell_type": "code",
   "execution_count": 4,
   "metadata": {},
   "outputs": [],
   "source": [
    "CanadaOntarioToronto['date']=pd.to_datetime(CanadaOntarioToronto['Date_health_region'])\n",
    "CanadaOntarioToronto=CanadaOntarioToronto.drop('Ottawa',axis=1)\n",
    "CanadaOntarioToronto=CanadaOntarioToronto.drop('Date_health_region',axis=1)\n",
    "CanadaOntarioToronto=CanadaOntarioToronto[CanadaOntarioToronto['CA']>60]"
   ]
  },
  {
   "cell_type": "code",
   "execution_count": 5,
   "metadata": {},
   "outputs": [
    {
     "data": {
      "text/html": [
       "<div>\n",
       "<style scoped>\n",
       "    .dataframe tbody tr th:only-of-type {\n",
       "        vertical-align: middle;\n",
       "    }\n",
       "\n",
       "    .dataframe tbody tr th {\n",
       "        vertical-align: top;\n",
       "    }\n",
       "\n",
       "    .dataframe thead th {\n",
       "        text-align: right;\n",
       "    }\n",
       "</style>\n",
       "<table border=\"1\" class=\"dataframe\">\n",
       "  <thead>\n",
       "    <tr style=\"text-align: right;\">\n",
       "      <th></th>\n",
       "      <th>Toronto</th>\n",
       "      <th>Ontario</th>\n",
       "      <th>CA</th>\n",
       "      <th>date</th>\n",
       "    </tr>\n",
       "  </thead>\n",
       "  <tbody>\n",
       "    <tr>\n",
       "      <td>4</td>\n",
       "      <td>18</td>\n",
       "      <td>32</td>\n",
       "      <td>67</td>\n",
       "      <td>2020-03-08</td>\n",
       "    </tr>\n",
       "    <tr>\n",
       "      <td>5</td>\n",
       "      <td>20</td>\n",
       "      <td>35</td>\n",
       "      <td>86</td>\n",
       "      <td>2020-03-09</td>\n",
       "    </tr>\n",
       "    <tr>\n",
       "      <td>6</td>\n",
       "      <td>21</td>\n",
       "      <td>37</td>\n",
       "      <td>95</td>\n",
       "      <td>2020-03-10</td>\n",
       "    </tr>\n",
       "    <tr>\n",
       "      <td>7</td>\n",
       "      <td>23</td>\n",
       "      <td>42</td>\n",
       "      <td>116</td>\n",
       "      <td>2020-03-11</td>\n",
       "    </tr>\n",
       "    <tr>\n",
       "      <td>8</td>\n",
       "      <td>31</td>\n",
       "      <td>59</td>\n",
       "      <td>156</td>\n",
       "      <td>2020-03-12</td>\n",
       "    </tr>\n",
       "  </tbody>\n",
       "</table>\n",
       "</div>"
      ],
      "text/plain": [
       "   Toronto  Ontario   CA       date\n",
       "4       18       32   67 2020-03-08\n",
       "5       20       35   86 2020-03-09\n",
       "6       21       37   95 2020-03-10\n",
       "7       23       42  116 2020-03-11\n",
       "8       31       59  156 2020-03-12"
      ]
     },
     "execution_count": 5,
     "metadata": {},
     "output_type": "execute_result"
    }
   ],
   "source": [
    "CanadaOntarioToronto.head()"
   ]
  },
  {
   "cell_type": "code",
   "execution_count": 6,
   "metadata": {},
   "outputs": [
    {
     "name": "stdout",
     "output_type": "stream",
     "text": [
      "[[Fit Statistics]]\n",
      "    # fitting method   = leastsq\n",
      "    # function evals   = 376\n",
      "    # data points      = 61\n",
      "    # variables        = 4\n",
      "    chi-square         = 0.01740652\n",
      "    reduced chi-square = 3.0538e-04\n",
      "    Akaike info crit   = -489.868847\n",
      "    Bayesian info crit = -481.425352\n",
      "[[Variables]]\n",
      "    amp:        0.11355647 +/- 0.01768299 (15.57%) (init = 1)\n",
      "    scale:      8.73930043 +/- 1.41973849 (16.25%) (init = 1)\n",
      "    loc:        23.2598629 +/- 0.95333045 (4.10%) (init = 70)\n",
      "    decaybase:  0.85000000 +/- 0.03563304 (4.19%) (init = 1)\n",
      "[[Correlations]] (unreported correlations are < 0.100)\n",
      "    C(amp, decaybase)   = -0.997\n",
      "    C(loc, decaybase)   = -0.926\n",
      "    C(amp, loc)         =  0.919\n",
      "    C(scale, loc)       = -0.877\n",
      "    C(scale, decaybase) =  0.728\n",
      "    C(amp, scale)       = -0.691\n"
     ]
    },
    {
     "name": "stderr",
     "output_type": "stream",
     "text": [
      "/media/Data1/Anaconda3/lib/python3.7/site-packages/ipykernel_launcher.py:55: UserWarning:\n",
      "\n",
      "Matplotlib is currently using module://ipykernel.pylab.backend_inline, which is a non-GUI backend, so cannot show the figure.\n",
      "\n"
     ]
    },
    {
     "data": {
      "image/png": "[encoded data removed]",
      "text/plain": [
       "<Figure size 1080x648 with 1 Axes>"
      ]
     },
     "metadata": {
      "needs_background": "light"
     },
     "output_type": "display_data"
    },
    {
     "data": {
      "application/vnd.jupyter.widget-view+json": {
       "model_id": "8e504126b9d14adeb65d904459a28ba8",
       "version_major": 2,
       "version_minor": 0
      },
      "text/plain": [
       "interactive(children=(Output(),), _dom_classes=('widget-interact',))"
      ]
     },
     "metadata": {},
     "output_type": "display_data"
    }
   ],
   "source": [
    "# basic data\n",
    "theCountry='Ontario'\n",
    "threshhold=3\n",
    "theData=CanadaOntarioToronto[CanadaOntarioToronto[theCountry]>threshhold] \n",
    "theData=theData.set_index('date')\n",
    "data=theData[theCountry]\n",
    "start_date= data.index[0]\n",
    "end_date= data.index[-1]                           \n",
    "dateData=pd.date_range(start=start_date,end=end_date)\n",
    "forecastDays=60\n",
    "\n",
    "dateForecast= pd.date_range(start=end_date,periods=forecastDays+1)[1:] \n",
    "dateObsForecast=dateData.append(dateForecast)\n",
    "#dateObsForecast\n",
    "\n",
    "                         \n",
    "# define objective function: returns the array to be minimized\n",
    "  # normalize case data\n",
    "last=data[-1]\n",
    "data=data/last\n",
    "  # set x values interval = 1day\n",
    "dataLen=data.count()\n",
    "x = np.linspace(1, dataLen, dataLen)\n",
    "\n",
    "# create a set of Parameters\n",
    "params = Parameters()\n",
    "params.add('amp', value=1)\n",
    "params.add('scale', value=1, min=0.1)\n",
    "params.add('loc', value=70, min=0)\n",
    "params.add('decaybase',value=1, min=0.85,max=1.005)  # shparly increase value>1\n",
    "\n",
    "# do fit, here with the default leastsq algorithm\n",
    "minner = Minimizer(Cauchy_cumulative_hazard_residual, params, fcn_args=(x, data))\n",
    "result = minner.minimize()\n",
    "\n",
    "# calculate final result\n",
    "forecastdays=forecastDays\n",
    "final = data + result.residual\n",
    "x1=np.linspace(1,dataLen+forecastdays,dataLen+forecastdays)\n",
    "scale=result.params['scale'].value\n",
    "amp=result.params['amp'].value\n",
    "loc=result.params['loc'].value\n",
    "decaybase=result.params['decaybase'].value\n",
    "\n",
    "y1=amp*Cauchy_cumulative_hazard(x1,loc,scale,decaybase)  # forecast\n",
    "nn=np.int(np.ceil(loc))\n",
    "y1[:nn]=final.iloc[:nn] # replace data before\n",
    "\n",
    "# write error report\n",
    "report_fit(result)\n",
    "fig0=plt.figure(figsize=(15,9))\n",
    "plt.plot(x, data*last, 'k+')\n",
    "plt.plot(x1,y1*last,'r-')\n",
    "plt.plot(x, final*last, 'b-')\n",
    "fig0.show()\n",
    "\n",
    "output = pd.DataFrame({'date' : [],'Forecast':[],'Cases': [],'Fitting':[],'Increase':[]})\n",
    "output\n",
    "\n",
    "output['date']=dateObsForecast\n",
    "output['Forecast']=y1*last\n",
    "output['Cases'].iloc[:dataLen]=data.values*last\n",
    "output['Fitting'].iloc[:dataLen]=final.values*last\n",
    "output['Increase'].iloc[1:]=(y1[1:]-y1[:-1])*last\n",
    "output=output.set_index('date')\n",
    "\n",
    "output.iplot(asFigure=True,\n",
    "             mode='lines+markers',\n",
    "             size=6,secondary_y = 'Increase',\n",
    "             secondary_y_title='Increase',\n",
    "             xTitle='Date',\n",
    "             yTitle='Cases',\n",
    "             title='Projected COVID-19 Cases in Ontario')\n",
    "\n",
    "@interact\n",
    "def plot_ProjectedOntarioCOVID19():\n",
    "    fig=output.iplot(asFigure=True,\n",
    "                 mode='lines+markers',\n",
    "                 size=6,secondary_y = 'Increase',\n",
    "                 secondary_y_title='Increase',\n",
    "                 xTitle='Date',\n",
    "                 yTitle='Cases',\n",
    "                 title='Projected COVID-19 Cases in Ontario',\n",
    "                 theme='solar',\n",
    "                 filename='COVID19-Ontario',\n",
    "                 sharing='public')\n",
    "    fig.show()\n",
    "    url=py.iplot(fig, filename='COVID19-Ontario')\n",
    "    print(url)"
   ]
  },
  {
   "cell_type": "code",
   "execution_count": 7,
   "metadata": {},
   "outputs": [
    {
     "name": "stdout",
     "output_type": "stream",
     "text": [
      "[[Fit Statistics]]\n",
      "    # fitting method   = leastsq\n",
      "    # function evals   = 279\n",
      "    # data points      = 61\n",
      "    # variables        = 4\n",
      "    chi-square         = 0.02404955\n",
      "    reduced chi-square = 4.2192e-04\n",
      "    Akaike info crit   = -470.149279\n",
      "    Bayesian info crit = -461.705783\n",
      "[[Variables]]\n",
      "    amp:        0.18501840 +/- 0.04234279 (22.89%) (init = 1)\n",
      "    scale:      10.0205809 +/- 1.72166556 (17.18%) (init = 1)\n",
      "    loc:        28.0321519 +/- 1.91184778 (6.82%) (init = 70)\n",
      "    decaybase:  0.91733549 +/- 0.03204052 (3.49%) (init = 1)\n",
      "[[Correlations]] (unreported correlations are < 0.100)\n",
      "    C(amp, decaybase)   =  0.997\n",
      "    C(amp, loc)         =  0.985\n",
      "    C(loc, decaybase)   =  0.984\n",
      "    C(scale, loc)       = -0.934\n",
      "    C(scale, decaybase) = -0.912\n",
      "    C(amp, scale)       = -0.888\n"
     ]
    },
    {
     "name": "stderr",
     "output_type": "stream",
     "text": [
      "/media/Data1/Anaconda3/lib/python3.7/site-packages/ipykernel_launcher.py:57: UserWarning:\n",
      "\n",
      "Matplotlib is currently using module://ipykernel.pylab.backend_inline, which is a non-GUI backend, so cannot show the figure.\n",
      "\n"
     ]
    },
    {
     "data": {
      "image/png": "[encoded data removed]",
      "text/plain": [
       "<Figure size 1080x648 with 1 Axes>"
      ]
     },
     "metadata": {
      "needs_background": "light"
     },
     "output_type": "display_data"
    },
    {
     "data": {
      "application/vnd.jupyter.widget-view+json": {
       "model_id": "b512923057be4ae58ce69be3c53af94f",
       "version_major": 2,
       "version_minor": 0
      },
      "text/plain": [
       "interactive(children=(Output(),), _dom_classes=('widget-interact',))"
      ]
     },
     "metadata": {},
     "output_type": "display_data"
    }
   ],
   "source": [
    "# basic data\n",
    "theCountry='Toronto'\n",
    "figfiletitle='Projected COVID-19 Cases in ' + theCountry\n",
    "figfilename= 'COVID19-' + theCountry\n",
    "threshhold=3\n",
    "theData=CanadaOntarioToronto[CanadaOntarioToronto[theCountry]>threshhold] \n",
    "theData=theData.set_index('date')\n",
    "data=theData[theCountry]\n",
    "start_date= data.index[0]\n",
    "end_date= data.index[-1]                           \n",
    "dateData=pd.date_range(start=start_date,end=end_date)\n",
    "forecastDays=60\n",
    "\n",
    "dateForecast= pd.date_range(start=end_date,periods=forecastDays+1)[1:] \n",
    "dateObsForecast=dateData.append(dateForecast)\n",
    "#dateObsForecast\n",
    "\n",
    "                         \n",
    "# define objective function: returns the array to be minimized\n",
    "  # normalize case data\n",
    "last=data[-1]\n",
    "data=data/last\n",
    "  # set x values interval = 1day\n",
    "dataLen=data.count()\n",
    "x = np.linspace(1, dataLen, dataLen)\n",
    "\n",
    "# create a set of Parameters\n",
    "params = Parameters()\n",
    "params.add('amp', value=1)\n",
    "params.add('scale', value=1, min=0.1)\n",
    "params.add('loc', value=70, min=0)\n",
    "params.add('decaybase',value=1, min=0.85,max=1.005)  # shparly increase value>1\n",
    "\n",
    "# do fit, here with the default leastsq algorithm\n",
    "minner = Minimizer(Cauchy_cumulative_hazard_residual, params, fcn_args=(x, data))\n",
    "result = minner.minimize()\n",
    "\n",
    "# calculate final result\n",
    "forecastdays=forecastDays\n",
    "final = data + result.residual\n",
    "x1=np.linspace(1,dataLen+forecastdays,dataLen+forecastdays)\n",
    "scale=result.params['scale'].value\n",
    "amp=result.params['amp'].value\n",
    "loc=result.params['loc'].value\n",
    "decaybase=result.params['decaybase'].value\n",
    "\n",
    "y1=amp*Cauchy_cumulative_hazard(x1,loc,scale,decaybase)  # forecast\n",
    "nn=np.int(np.ceil(loc))\n",
    "y1[:nn]=final.iloc[:nn] # replace data before\n",
    "\n",
    "# write error report\n",
    "report_fit(result)\n",
    "fig0=plt.figure(figsize=(15,9))\n",
    "plt.plot(x, data*last, 'k+')\n",
    "plt.plot(x1,y1*last,'r-')\n",
    "plt.plot(x, final*last, 'b-')\n",
    "fig0.show()\n",
    "\n",
    "output = pd.DataFrame({'date' : [],'Forecast':[],'Cases': [],'Fitting':[],'Increase':[]})\n",
    "output\n",
    "\n",
    "output['date']=dateObsForecast\n",
    "output['Forecast']=y1*last\n",
    "output['Cases'].iloc[:dataLen]=data.values*last\n",
    "output['Fitting'].iloc[:dataLen]=final.values*last\n",
    "output['Increase'].iloc[1:]=(y1[1:]-y1[:-1])*last\n",
    "output=output.set_index('date')\n",
    "\n",
    "output.iplot(asFigure=True,\n",
    "             mode='lines+markers',\n",
    "             size=6,secondary_y = 'Increase',\n",
    "             secondary_y_title='Increase',\n",
    "             xTitle='Date',\n",
    "             yTitle='Cases',\n",
    "             title=figfiletitle)\n",
    "\n",
    "@interact\n",
    "def plot_ProjectedTorontoCOVID19():\n",
    "    fig=output.iplot(asFigure=True,\n",
    "                 mode='lines+markers',\n",
    "                 size=6,secondary_y = 'Increase',\n",
    "                 secondary_y_title='Increase',\n",
    "                 xTitle='Date',\n",
    "                 yTitle='Cases',\n",
    "                 title=figfiletitle,\n",
    "                 theme='solar',\n",
    "                 filename=figfilename,\n",
    "                 sharing='public')\n",
    "    fig.show()\n",
    "    url=py.iplot(fig, filename=figfilename)\n",
    "    print(url)\n"
   ]
  },
  {
   "cell_type": "code",
   "execution_count": null,
   "metadata": {},
   "outputs": [],
   "source": []
  },
  {
   "cell_type": "code",
   "execution_count": null,
   "metadata": {},
   "outputs": [],
   "source": []
  }
 ],
 "metadata": {
  "kernelspec": {
   "display_name": "Python 3",
   "language": "python",
   "name": "python3"
  },
  "language_info": {
   "codemirror_mode": {
    "name": "ipython",
    "version": 3
   },
   "file_extension": ".py",
   "mimetype": "text/x-python",
   "name": "python",
   "nbconvert_exporter": "python",
   "pygments_lexer": "ipython3",
   "version": "3.7.4"
  }
 },
 "nbformat": 4,
 "nbformat_minor": 2
}
