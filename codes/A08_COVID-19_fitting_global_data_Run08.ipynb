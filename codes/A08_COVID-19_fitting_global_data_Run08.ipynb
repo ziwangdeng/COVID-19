{
 "cells": [
  {
   "cell_type": "code",
   "execution_count": 1,
   "metadata": {},
   "outputs": [],
   "source": [
    "from scipy.optimize import curve_fit\n",
    "import numpy as np\n",
    "import pandas as pd\n",
    "from datetime import datetime\n",
    "\n",
    "from lmfit import Minimizer, Parameters, report_fit\n",
    "import chart_studio.plotly as py\n",
    "\n",
    "import matplotlib.pyplot as plt\n",
    "import ipywidgets as widgets\n",
    "from ipywidgets import interact, interact_manual\n",
    "import cufflinks as cf"
   ]
  },
  {
   "cell_type": "code",
   "execution_count": 2,
   "metadata": {},
   "outputs": [],
   "source": [
    "def Cauchy_cumulative_hazard_fit(x,loc,scale,decaybase):\n",
    "    decayterm=np.power(decaybase,(x-loc))\n",
    "    decayterm[np.where((x-loc)<0)]=1.0\n",
    "    z=(x-loc)/(scale*decayterm)\n",
    "    CHF=-np.log(0.5 - np.arctan(z)/np.pi)\n",
    "    return CHF\n",
    "\n",
    "# define objective function: returns the array to be minimized\n",
    "def Cauchy_cumulative_hazard_residual(params, x, data):\n",
    "    \"\"\"Model a decaying sine wave and subtract data.\"\"\"\n",
    "    amp = params['amp']\n",
    "    loc = params['loc']\n",
    "    scale = params['scale']\n",
    "    decaybase=params['decaybase']\n",
    "    decayterm=np.power(decaybase,(x-loc))\n",
    "    decayterm[np.where((x-loc)<0)]=1.0\n",
    "    z=(x-loc)/(scale*decayterm)\n",
    "    CHF=-np.log(0.5 - np.arctan(z)/np.pi)\n",
    "    model = amp * CHF\n",
    "    return model - data"
   ]
  },
  {
   "cell_type": "code",
   "execution_count": 3,
   "metadata": {},
   "outputs": [],
   "source": [
    "# https://data.humdata.org/dataset/coronavirus-covid-19-cases-data-for-china-and-the-rest-of-the-world\n",
    "# worldTot.to_csv('worldTot.csv')\n",
    "# datafile=\"data/COVID19/WHO COVID Cases Data - covid-19 historical cases by country.csv\"\n",
    "data00=pd.read_csv('worldTot.csv')"
   ]
  },
  {
   "cell_type": "code",
   "execution_count": 4,
   "metadata": {},
   "outputs": [
    {
     "data": {
      "text/html": [
       "<div>\n",
       "<style scoped>\n",
       "    .dataframe tbody tr th:only-of-type {\n",
       "        vertical-align: middle;\n",
       "    }\n",
       "\n",
       "    .dataframe tbody tr th {\n",
       "        vertical-align: top;\n",
       "    }\n",
       "\n",
       "    .dataframe thead th {\n",
       "        text-align: right;\n",
       "    }\n",
       "</style>\n",
       "<table border=\"1\" class=\"dataframe\">\n",
       "  <thead>\n",
       "    <tr style=\"text-align: right;\">\n",
       "      <th></th>\n",
       "      <th>cases</th>\n",
       "    </tr>\n",
       "    <tr>\n",
       "      <th>date</th>\n",
       "      <th></th>\n",
       "    </tr>\n",
       "  </thead>\n",
       "  <tbody>\n",
       "    <tr>\n",
       "      <td>1/22/20</td>\n",
       "      <td>555</td>\n",
       "    </tr>\n",
       "    <tr>\n",
       "      <td>1/23/20</td>\n",
       "      <td>654</td>\n",
       "    </tr>\n",
       "    <tr>\n",
       "      <td>1/24/20</td>\n",
       "      <td>941</td>\n",
       "    </tr>\n",
       "    <tr>\n",
       "      <td>1/25/20</td>\n",
       "      <td>1434</td>\n",
       "    </tr>\n",
       "    <tr>\n",
       "      <td>1/26/20</td>\n",
       "      <td>2118</td>\n",
       "    </tr>\n",
       "  </tbody>\n",
       "</table>\n",
       "</div>"
      ],
      "text/plain": [
       "         cases\n",
       "date          \n",
       "1/22/20    555\n",
       "1/23/20    654\n",
       "1/24/20    941\n",
       "1/25/20   1434\n",
       "1/26/20   2118"
      ]
     },
     "execution_count": 4,
     "metadata": {},
     "output_type": "execute_result"
    }
   ],
   "source": [
    "data00=data00.rename(columns={\"Unnamed: 0\":\"date\"})\n",
    "dataWorld=data00.set_index('date')\n",
    "dataWorld.head()"
   ]
  },
  {
   "cell_type": "code",
   "execution_count": 5,
   "metadata": {},
   "outputs": [],
   "source": [
    "start_date=dataWorld.index[0]\n",
    "end_date=dataWorld.index[-1]\n",
    "dateData=pd.date_range(start=start_date,end=end_date)\n",
    "dataWorld['Date']=dateData\n",
    "dataWorld=dataWorld.set_index('Date')\n",
    "\n",
    "\n",
    "data=dataWorld['cases']\n",
    "forecastDays=60\n",
    "\n",
    "dateForecast= pd.date_range(start=end_date,periods=forecastDays+1)[1:] \n",
    "dateObsForecast=dateData.append(dateForecast)\n",
    "#dateObsForecast\n",
    "\n",
    "                         \n",
    "# define objective function: returns the array to be minimized\n",
    "  # normalize case data\n",
    "last=data[-1]\n",
    "data=data/last\n",
    "  # set x values interval = 1day\n",
    "dataLen=data.count()\n",
    "x = np.linspace(1, dataLen, dataLen)"
   ]
  },
  {
   "cell_type": "code",
   "execution_count": 6,
   "metadata": {},
   "outputs": [
    {
     "name": "stdout",
     "output_type": "stream",
     "text": [
      "[[Fit Statistics]]\n",
      "    # fitting method   = leastsq\n",
      "    # function evals   = 216\n",
      "    # data points      = 107\n",
      "    # variables        = 4\n",
      "    chi-square         = 0.01183251\n",
      "    reduced chi-square = 1.1488e-04\n",
      "    Akaike info crit   = -966.741443\n",
      "    Bayesian info crit = -956.050128\n",
      "[[Variables]]\n",
      "    amp:        0.11102831 +/- 0.00891390 (8.03%) (init = 1)\n",
      "    scale:      16.3726793 +/- 1.82742154 (11.16%) (init = 1)\n",
      "    loc:        61.0295730 +/- 0.65657987 (1.08%) (init = 100)\n",
      "    decaybase:  0.86638193 +/- 0.01343934 (1.55%) (init = 1)\n",
      "[[Correlations]] (unreported correlations are < 0.100)\n",
      "    C(amp, decaybase)   =  0.997\n",
      "    C(scale, loc)       = -0.944\n",
      "    C(loc, decaybase)   =  0.922\n",
      "    C(amp, loc)         =  0.922\n",
      "    C(scale, decaybase) = -0.861\n",
      "    C(amp, scale)       = -0.837\n"
     ]
    },
    {
     "data": {
      "application/vnd.jupyter.widget-view+json": {
       "model_id": "66c1c4d4d72d4d70911ceb75a271765c",
       "version_major": 2,
       "version_minor": 0
      },
      "text/plain": [
       "interactive(children=(Output(),), _dom_classes=('widget-interact',))"
      ]
     },
     "metadata": {},
     "output_type": "display_data"
    }
   ],
   "source": [
    "# data00=data00[['DateOfDataEntry','cum_conf','NewCase']]\n",
    "# data00['DateOfDataEntry']=pd.to_datetime(data00['DateOfDataEntry'])\n",
    "# dataWorld=data00.groupby('DateOfDataEntry').sum()\n",
    "\n",
    "# start_date=dataWorld.index[0].date()\n",
    "# end_date=dataWorld.index[-1].date()\n",
    "\n",
    "\n",
    "\n",
    "# create a set of Parameters\n",
    "params = Parameters()\n",
    "params.add('amp', value=1)\n",
    "params.add('scale', value=1, min=0.1)\n",
    "params.add('loc', value=100, min=0)\n",
    "params.add('decaybase',value=1,min=0.8,max=1.05)  # shparly increase value>1\n",
    "\n",
    "# do fit, here with the default leastsq algorithm\n",
    "minner = Minimizer(Cauchy_cumulative_hazard_residual, params, fcn_args=(x, data))\n",
    "result = minner.minimize()\n",
    "\n",
    "# calculate final result\n",
    "forecastdays=forecastDays\n",
    "final = data + result.residual\n",
    "x1=np.linspace(1,dataLen+forecastdays,dataLen+forecastdays)\n",
    "scale=result.params['scale'].value\n",
    "amp=result.params['amp'].value\n",
    "loc=result.params['loc'].value\n",
    "decaybase=result.params['decaybase'].value\n",
    "\n",
    "y1=amp*Cauchy_cumulative_hazard_fit(x1,loc,scale,decaybase)  # forecast\n",
    "nn=np.int(np.ceil(loc))\n",
    "y1[:nn]=final.iloc[:nn] # replace data before\n",
    "\n",
    "# write error report\n",
    "report_fit(result)\n",
    "\n",
    "output = pd.DataFrame({'date' : [],'Forecast':[],'Cases': [],'Fitting':[],'Increase':[]})\n",
    "output\n",
    "\n",
    "output['date']=dateObsForecast\n",
    "output['Forecast']=y1*last\n",
    "output['Cases'].iloc[:dataLen]=data.values*last\n",
    "output['Fitting'].iloc[:dataLen]=final.values*last\n",
    "output['Increase'].iloc[1:]=(y1[1:]-y1[:-1])*last\n",
    "output=output.set_index('date')\n",
    "\n",
    "@interact\n",
    "def plot_ProjectedWorldCOVID19():\n",
    "    fig=output.iplot(asFigure=True,\n",
    "             mode='lines+markers',\n",
    "             size=3,secondary_y = 'Increase',\n",
    "             secondary_y_title='Increase',\n",
    "             xTitle='Date',\n",
    "             yTitle='Cases',\n",
    "             title='Projected COVID-19 Cases over the World',\n",
    "             theme='solar',\n",
    "             filename='COVID19-World',\n",
    "             sharing='public')\n",
    "    fig.show()\n",
    "    url=py.iplot(fig, filename='COVID19-World')\n",
    "    print(url)"
   ]
  },
  {
   "cell_type": "code",
   "execution_count": null,
   "metadata": {},
   "outputs": [],
   "source": []
  }
 ],
 "metadata": {
  "kernelspec": {
   "display_name": "Python 3",
   "language": "python",
   "name": "python3"
  },
  "language_info": {
   "codemirror_mode": {
    "name": "ipython",
    "version": 3
   },
   "file_extension": ".py",
   "mimetype": "text/x-python",
   "name": "python",
   "nbconvert_exporter": "python",
   "pygments_lexer": "ipython3",
   "version": "3.7.4"
  }
 },
 "nbformat": 4,
 "nbformat_minor": 2
}
