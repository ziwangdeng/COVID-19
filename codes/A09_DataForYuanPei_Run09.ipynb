{
 "cells": [
  {
   "cell_type": "markdown",
   "metadata": {},
   "source": [
    "# Prepare data"
   ]
  },
  {
   "cell_type": "code",
   "execution_count": 1,
   "metadata": {},
   "outputs": [],
   "source": [
    "from pyspark.sql import SparkSession\n",
    "from pyspark.sql.types import *  #data types\n",
    "from pyspark.sql import functions as F   #functions\n",
    "from pyspark.sql.functions import udf, col\n",
    "from pyspark.sql import Row   # createDataFrame\n",
    "from pyspark import SQLContext\n",
    "\n",
    "# import xml.etree.ElementTree as ET\n",
    "# import csv\n",
    "\n",
    "import pandas as pd\n",
    "import numpy as np\n",
    "from datetime import datetime\n",
    "import matplotlib.pyplot as plt\n",
    "\n",
    "import ipywidgets as widgets\n",
    "from ipywidgets import interact, interact_manual\n",
    "\n",
    "\n",
    "spark=SparkSession.builder.appName('Canada COVID19 Data').getOrCreate()"
   ]
  },
  {
   "cell_type": "code",
   "execution_count": 2,
   "metadata": {},
   "outputs": [
    {
     "name": "stdout",
     "output_type": "stream",
     "text": [
      "root\n",
      " |-- case_id: integer (nullable = true)\n",
      " |-- provincial_case_id: integer (nullable = true)\n",
      " |-- age: string (nullable = true)\n",
      " |-- sex: string (nullable = true)\n",
      " |-- health_region: string (nullable = true)\n",
      " |-- province: string (nullable = true)\n",
      " |-- country: string (nullable = true)\n",
      " |-- date_report: string (nullable = true)\n",
      " |-- report_week: string (nullable = true)\n",
      " |-- travel_yn: string (nullable = true)\n",
      " |-- travel_history_country: string (nullable = true)\n",
      " |-- locally_acquired: string (nullable = true)\n",
      " |-- case_source: string (nullable = true)\n",
      " |-- additional_info: string (nullable = true)\n",
      " |-- additional_source: string (nullable = true)\n",
      " |-- method_note: string (nullable = true)\n",
      "\n"
     ]
    }
   ],
   "source": [
    "casefn=r'data/COVID19/Covid19Canada-master/cases.csv'\n",
    "casedf=spark.read.csv(casefn,header=True,inferSchema=True)\n",
    "casedf.printSchema()\n",
    "mortfn=r'data/COVID19/Covid19Canada-master/mortality.csv'\n",
    "mortdf=spark.read.csv(mortfn,header=True,inferSchema=True)\n",
    "recofn=r'data/COVID19/Covid19Canada-master/recovered_cumulative.csv'\n",
    "recodf=spark.read.csv(recofn,header=True,inferSchema=True)\n",
    "testfn=r'data/COVID19/Covid19Canada-master/testing_cumulative.csv'\n",
    "testdf=spark.read.csv(testfn,header=True,inferSchema=True)"
   ]
  },
  {
   "cell_type": "code",
   "execution_count": 3,
   "metadata": {},
   "outputs": [],
   "source": [
    "# casedf.show()"
   ]
  },
  {
   "cell_type": "code",
   "execution_count": 4,
   "metadata": {},
   "outputs": [],
   "source": [
    "#mortdf.printSchema()\n",
    "func =  udf (lambda x: datetime.strptime(x, '%d-%m-%Y'), DateType())\n",
    "mortdf = mortdf.withColumn('Death_Date', func(col('date_death_report')))\n",
    "casedf = casedf.withColumn('case_Date', func(col('date_report')))\n",
    "recodf = recodf.withColumn('date_recovered', func(col('date_recovered')))\n",
    "testdf = testdf.withColumn('date_testing', func(col('date_testing')))\n",
    "#mortdf.printSchema()"
   ]
  },
  {
   "cell_type": "code",
   "execution_count": 5,
   "metadata": {},
   "outputs": [
    {
     "name": "stdout",
     "output_type": "stream",
     "text": [
      "root\n",
      " |-- date_recovered: date (nullable = true)\n",
      " |-- province: string (nullable = true)\n",
      " |-- cumulative_recovered: string (nullable = true)\n",
      "\n"
     ]
    }
   ],
   "source": [
    "recodf.printSchema()"
   ]
  },
  {
   "cell_type": "code",
   "execution_count": 6,
   "metadata": {},
   "outputs": [
    {
     "data": {
      "text/plain": [
       "DataFrame[province: string]"
      ]
     },
     "execution_count": 6,
     "metadata": {},
     "output_type": "execute_result"
    }
   ],
   "source": [
    "recodf.select('province').distinct()"
   ]
  },
  {
   "cell_type": "code",
   "execution_count": 7,
   "metadata": {},
   "outputs": [
    {
     "name": "stdout",
     "output_type": "stream",
     "text": [
      "root\n",
      " |-- date_testing: date (nullable = true)\n",
      " |-- province: string (nullable = true)\n",
      " |-- cumulative_testing: string (nullable = true)\n",
      " |-- testing_info: string (nullable = true)\n",
      "\n"
     ]
    }
   ],
   "source": [
    "testdf.printSchema()"
   ]
  },
  {
   "cell_type": "code",
   "execution_count": 8,
   "metadata": {},
   "outputs": [],
   "source": [
    "recoverpd=recodf.toPandas()\n",
    "recoverpd=recoverpd.replace('NA','0')\n",
    "recoverpd=recoverpd.astype({\"cumulative_recovered\":\"int32\"})\n",
    "recover_table=pd.pivot_table(recoverpd, values='cumulative_recovered',index='date_recovered', columns='province')\n",
    "#recover_table.index=pd.to_datetime(recover_table.index)\n",
    "recover_table['CA']=recover_table.sum(axis=1)\n",
    "recover_table=recover_table.sort_values(['CA','date_recovered'])\n",
    "toYuanPei_recover_table=recover_table[['CA','Ontario','Quebec','BC']]\n",
    "\n",
    "toYuanPei_recover_table.to_csv('data/COVID19/toYuanPei/recover_table.csv')"
   ]
  },
  {
   "cell_type": "code",
   "execution_count": 9,
   "metadata": {},
   "outputs": [],
   "source": [
    "testingpd=testdf.toPandas()\n",
    "testingpd=testingpd.replace('NA','0')\n",
    "testingpd=testingpd.astype({\"cumulative_testing\":\"int32\"})\n",
    "testing_table=pd.pivot_table(testingpd, values='cumulative_testing',index='date_testing', columns='province')\n",
    "#testing_table.index=pd.to_datetime(testing_table.index)\n",
    "testing_table['CA']=testing_table.sum(axis=1)\n",
    "testing_table=testing_table.sort_values(['CA','date_testing'])\n",
    "toYuanPei_testing_table=testing_table[['CA','Ontario','Quebec','BC']]\n",
    "\n",
    "toYuanPei_testing_table.to_csv('data/COVID19/toYuanPei/testing_table.csv')"
   ]
  },
  {
   "cell_type": "code",
   "execution_count": 10,
   "metadata": {},
   "outputs": [
    {
     "name": "stderr",
     "output_type": "stream",
     "text": [
      "/media/Data1/Anaconda3/lib/python3.7/site-packages/ipykernel_launcher.py:24: SettingWithCopyWarning: \n",
      "A value is trying to be set on a copy of a slice from a DataFrame.\n",
      "Try using .loc[row_indexer,col_indexer] = value instead\n",
      "\n",
      "See the caveats in the documentation: http://pandas.pydata.org/pandas-docs/stable/user_guide/indexing.html#returning-a-view-versus-a-copy\n",
      "/media/Data1/Anaconda3/lib/python3.7/site-packages/ipykernel_launcher.py:25: SettingWithCopyWarning: \n",
      "A value is trying to be set on a copy of a slice from a DataFrame.\n",
      "Try using .loc[row_indexer,col_indexer] = value instead\n",
      "\n",
      "See the caveats in the documentation: http://pandas.pydata.org/pandas-docs/stable/user_guide/indexing.html#returning-a-view-versus-a-copy\n",
      "/media/Data1/Anaconda3/lib/python3.7/site-packages/ipykernel_launcher.py:26: SettingWithCopyWarning: \n",
      "A value is trying to be set on a copy of a slice from a DataFrame.\n",
      "Try using .loc[row_indexer,col_indexer] = value instead\n",
      "\n",
      "See the caveats in the documentation: http://pandas.pydata.org/pandas-docs/stable/user_guide/indexing.html#returning-a-view-versus-a-copy\n",
      "/media/Data1/Anaconda3/lib/python3.7/site-packages/ipykernel_launcher.py:27: SettingWithCopyWarning: \n",
      "A value is trying to be set on a copy of a slice from a DataFrame.\n",
      "Try using .loc[row_indexer,col_indexer] = value instead\n",
      "\n",
      "See the caveats in the documentation: http://pandas.pydata.org/pandas-docs/stable/user_guide/indexing.html#returning-a-view-versus-a-copy\n"
     ]
    }
   ],
   "source": [
    "deathtable=mortdf.crosstab('Death_Date','province')\n",
    "deathtable=deathtable.toPandas()\n",
    "deathtable=deathtable.sort_values('Death_Date_province')\n",
    "\n",
    "cumsum_deathtable=deathtable.set_index('Death_Date_province').cumsum()\n",
    "cumsum_deathtable['CA']=cumsum_deathtable.sum(axis=1)\n",
    "\n",
    "toYuanPei_death_table=cumsum_deathtable[['CA','Ontario','Quebec','BC']]\n",
    "\n",
    "#toYuanPei_death_table.head(5)\n",
    "\n",
    "#mortdf.select('health_region').distinct().show(5) # Toronto  Vancouver Coastal Montréal,Ottawa \n",
    "\n",
    "mortdftable=mortdf.crosstab('Death_Date','health_region')\n",
    "health_region_table=mortdftable.select(['Death_Date_health_region','Toronto','Montréal','Vancouver Coastal','Ottawa'])\n",
    "\n",
    "health_region_table1=health_region_table.toPandas()\n",
    "health_region_table1=health_region_table1.rename(columns={\"Death_Date_health_region\":\"Death_Date\"})\n",
    "health_region_table1=health_region_table1.sort_values('Death_Date')\n",
    "health_region_table1=health_region_table1.cumsum()\n",
    "health_region_table1.columns\n",
    "\n",
    "\n",
    "toYuanPei_death_table['Toronto']=np.array(health_region_table1['Toronto'])\n",
    "toYuanPei_death_table['Montréal']=np.array(health_region_table1['Montréal'])\n",
    "toYuanPei_death_table['Vancouver']=np.array(health_region_table1['Vancouver Coastal'])\n",
    "toYuanPei_death_table['Ottawa']=np.array(health_region_table1['Ottawa'])\n",
    "\n",
    "toYuanPei_death_table.to_csv('data/COVID19/toYuanPei/death_table.csv')"
   ]
  },
  {
   "cell_type": "code",
   "execution_count": 11,
   "metadata": {},
   "outputs": [
    {
     "name": "stderr",
     "output_type": "stream",
     "text": [
      "/media/Data1/Anaconda3/lib/python3.7/site-packages/ipykernel_launcher.py:20: SettingWithCopyWarning: \n",
      "A value is trying to be set on a copy of a slice from a DataFrame.\n",
      "Try using .loc[row_indexer,col_indexer] = value instead\n",
      "\n",
      "See the caveats in the documentation: http://pandas.pydata.org/pandas-docs/stable/user_guide/indexing.html#returning-a-view-versus-a-copy\n",
      "/media/Data1/Anaconda3/lib/python3.7/site-packages/ipykernel_launcher.py:21: SettingWithCopyWarning: \n",
      "A value is trying to be set on a copy of a slice from a DataFrame.\n",
      "Try using .loc[row_indexer,col_indexer] = value instead\n",
      "\n",
      "See the caveats in the documentation: http://pandas.pydata.org/pandas-docs/stable/user_guide/indexing.html#returning-a-view-versus-a-copy\n",
      "/media/Data1/Anaconda3/lib/python3.7/site-packages/ipykernel_launcher.py:22: SettingWithCopyWarning: \n",
      "A value is trying to be set on a copy of a slice from a DataFrame.\n",
      "Try using .loc[row_indexer,col_indexer] = value instead\n",
      "\n",
      "See the caveats in the documentation: http://pandas.pydata.org/pandas-docs/stable/user_guide/indexing.html#returning-a-view-versus-a-copy\n",
      "/media/Data1/Anaconda3/lib/python3.7/site-packages/ipykernel_launcher.py:23: SettingWithCopyWarning: \n",
      "A value is trying to be set on a copy of a slice from a DataFrame.\n",
      "Try using .loc[row_indexer,col_indexer] = value instead\n",
      "\n",
      "See the caveats in the documentation: http://pandas.pydata.org/pandas-docs/stable/user_guide/indexing.html#returning-a-view-versus-a-copy\n"
     ]
    }
   ],
   "source": [
    "casetable=casedf.crosstab('case_Date','province')\n",
    "casetable=casetable.toPandas()\n",
    "casetable=casetable.sort_values('case_Date_province')\n",
    "\n",
    "cumsum_casetable=casetable.set_index('case_Date_province').cumsum()\n",
    "cumsum_casetable['CA']=cumsum_casetable.sum(axis=1)\n",
    "\n",
    "toYuanPei_case_table=cumsum_casetable[['CA','Ontario','Quebec','BC']]\n",
    "\n",
    "casedftable=casedf.crosstab('case_Date','health_region')\n",
    "health_region_table=casedftable.select(['case_Date_health_region','Toronto','Montréal','Vancouver Coastal','Ottawa'])\n",
    "\n",
    "health_region_table1=health_region_table.toPandas()\n",
    "health_region_table1=health_region_table1.rename(columns={\"case_Date_health_region\":\"case_Date\"})\n",
    "health_region_table1=health_region_table1.sort_values('case_Date')\n",
    "health_region_table1=health_region_table1.cumsum()\n",
    "health_region_table1.columns\n",
    "\n",
    "\n",
    "toYuanPei_case_table['Toronto']=np.array(health_region_table1['Toronto'])\n",
    "toYuanPei_case_table['Montréal']=np.array(health_region_table1['Montréal'])\n",
    "toYuanPei_case_table['Vancouver']=np.array(health_region_table1['Vancouver Coastal'])\n",
    "toYuanPei_case_table['Ottawa']=np.array(health_region_table1['Ottawa'])\n",
    "\n",
    "\n",
    "toYuanPei_case_table.to_csv('data/COVID19/toYuanPei/case_table.csv')"
   ]
  },
  {
   "cell_type": "code",
   "execution_count": 12,
   "metadata": {},
   "outputs": [
    {
     "data": {
      "application/vnd.jupyter.widget-view+json": {
       "model_id": "dc46d4a9d5c541a6ab7b3f484dcc3f2c",
       "version_major": 2,
       "version_minor": 0
      },
      "text/plain": [
       "interactive(children=(Dropdown(description='column', options=('case_id', 'provincial_case_id', 'age', 'sex', '…"
      ]
     },
     "metadata": {},
     "output_type": "display_data"
    }
   ],
   "source": [
    "rawdat=casedf.toPandas()\n",
    "cols=rawdat.columns\n",
    "LL=casedf.count()\n",
    "LL\n",
    "func =  udf (lambda x: datetime.strptime(x, '%d-%m-%Y'), DateType())\n",
    "# interact with specification of arguments\n",
    "@interact\n",
    "def show_rawdata(column=cols, x=(1,LL,1)):\n",
    "    return rawdat.iloc[x:x+10]"
   ]
  },
  {
   "cell_type": "code",
   "execution_count": 13,
   "metadata": {},
   "outputs": [],
   "source": [
    "# data source: https://www150.statcan.gc.ca/t1/tbl1/en/tv.action?pid=1310076601\n",
    "indvidualCasescsvfile=r'data/COVID19/13100766-eng/13100766.csv'"
   ]
  },
  {
   "cell_type": "code",
   "execution_count": 14,
   "metadata": {},
   "outputs": [],
   "source": [
    "indcases=spark.read.csv(indvidualCasescsvfile,header=True,inferSchema=True)"
   ]
  },
  {
   "cell_type": "code",
   "execution_count": 15,
   "metadata": {},
   "outputs": [
    {
     "name": "stdout",
     "output_type": "stream",
     "text": [
      "root\n",
      " |-- REF_DATE: integer (nullable = true)\n",
      " |-- GEO: string (nullable = true)\n",
      " |-- DGUID: string (nullable = true)\n",
      " |-- Case identifier number: integer (nullable = true)\n",
      " |-- Case information: string (nullable = true)\n",
      " |-- UOM: string (nullable = true)\n",
      " |-- UOM_ID: integer (nullable = true)\n",
      " |-- SCALAR_FACTOR: string (nullable = true)\n",
      " |-- SCALAR_ID: integer (nullable = true)\n",
      " |-- VECTOR: string (nullable = true)\n",
      " |-- COORDINATE: string (nullable = true)\n",
      " |-- VALUE: integer (nullable = true)\n",
      " |-- STATUS: string (nullable = true)\n",
      " |-- SYMBOL: string (nullable = true)\n",
      " |-- TERMINATED: string (nullable = true)\n",
      " |-- DECIMALS: integer (nullable = true)\n",
      "\n"
     ]
    }
   ],
   "source": [
    "indcases.printSchema()"
   ]
  },
  {
   "cell_type": "code",
   "execution_count": 16,
   "metadata": {},
   "outputs": [
    {
     "name": "stdout",
     "output_type": "stream",
     "text": [
      "+------------------------------------+\n",
      "|Case information                    |\n",
      "+------------------------------------+\n",
      "|Transmission                        |\n",
      "|Death                               |\n",
      "|Date case was last updated - month  |\n",
      "|Hospitalization, previous status    |\n",
      "|Death, previous status              |\n",
      "|Age group                           |\n",
      "|Episode date - month                |\n",
      "|Date case was last updated - day    |\n",
      "|Episode date - day                  |\n",
      "|Hospitalization                     |\n",
      "|Intensive care unit                 |\n",
      "|Gender                              |\n",
      "|Intensive care unit, previous status|\n",
      "+------------------------------------+\n",
      "\n"
     ]
    }
   ],
   "source": [
    "indcases.select(\"Case information\").distinct().show(20, truncate=False)"
   ]
  },
  {
   "cell_type": "code",
   "execution_count": 17,
   "metadata": {},
   "outputs": [
    {
     "name": "stdout",
     "output_type": "stream",
     "text": [
      "+----------+\n",
      "|COORDINATE|\n",
      "+----------+\n",
      "|    1.12.8|\n",
      "|    1.15.8|\n",
      "|   1.16.12|\n",
      "|    1.19.4|\n",
      "|    1.37.5|\n",
      "|    1.63.8|\n",
      "|    1.67.1|\n",
      "|   1.93.11|\n",
      "|  1.111.11|\n",
      "|   1.121.2|\n",
      "|   1.125.7|\n",
      "|   1.176.2|\n",
      "|   1.224.2|\n",
      "|  1.237.11|\n",
      "|   1.240.9|\n",
      "|   1.250.9|\n",
      "|  1.258.13|\n",
      "|   1.270.7|\n",
      "|  1.358.11|\n",
      "|   1.375.9|\n",
      "+----------+\n",
      "only showing top 20 rows\n",
      "\n"
     ]
    }
   ],
   "source": [
    "indcases.select(\"COORDINATE\").distinct().show()"
   ]
  },
  {
   "cell_type": "code",
   "execution_count": 18,
   "metadata": {},
   "outputs": [
    {
     "name": "stdout",
     "output_type": "stream",
     "text": [
      "+--------+\n",
      "|REF_DATE|\n",
      "+--------+\n",
      "|    2020|\n",
      "+--------+\n",
      "\n"
     ]
    }
   ],
   "source": [
    "indcases.select(\"REF_DATE\").distinct().show()\n"
   ]
  },
  {
   "cell_type": "code",
   "execution_count": 19,
   "metadata": {},
   "outputs": [],
   "source": [
    "#casetable=indcases.crosstab(\"Case identifier number\",\"Case information\") \\\n",
    "#                  .toPandas() "
   ]
  },
  {
   "cell_type": "code",
   "execution_count": 20,
   "metadata": {},
   "outputs": [],
   "source": [
    "# casetable = casetable.drop([\"Death, previous status\", \\\n",
    "#                             \"Hospitalization, previous status\", \\\n",
    "#                             \"Intensive care unit, previous status\", \\\n",
    "#                             \"Date case was last updated - day\", \\\n",
    "#                             \"Date case was last updated - month\"], axis = 1)"
   ]
  },
  {
   "cell_type": "code",
   "execution_count": 21,
   "metadata": {},
   "outputs": [],
   "source": [
    "# casetable"
   ]
  },
  {
   "cell_type": "code",
   "execution_count": 22,
   "metadata": {},
   "outputs": [],
   "source": [
    "casepandas=indcases.toPandas()"
   ]
  },
  {
   "cell_type": "code",
   "execution_count": 23,
   "metadata": {},
   "outputs": [],
   "source": [
    "casetable1=pd.pivot_table(casepandas, \n",
    "                          values='VALUE',\n",
    "                          index=[\"Case identifier number\"],\n",
    "                          columns=[\"Case information\"], \n",
    "                          aggfunc=np.sum)"
   ]
  },
  {
   "cell_type": "code",
   "execution_count": 24,
   "metadata": {},
   "outputs": [],
   "source": [
    "casetable1 = casetable1.drop([\"Death, previous status\", \\\n",
    "                              \"Hospitalization, previous status\", \\\n",
    "                              \"Intensive care unit, previous status\", \\\n",
    "                              \"Date case was last updated - day\", \\\n",
    "                              \"Date case was last updated - month\"], axis = 1)"
   ]
  },
  {
   "cell_type": "code",
   "execution_count": 25,
   "metadata": {},
   "outputs": [
    {
     "data": {
      "text/plain": [
       "Index(['Age group', 'Death', 'Episode date - day', 'Episode date - month',\n",
       "       'Gender', 'Hospitalization', 'Intensive care unit', 'Transmission'],\n",
       "      dtype='object', name='Case information')"
      ]
     },
     "execution_count": 25,
     "metadata": {},
     "output_type": "execute_result"
    }
   ],
   "source": [
    "casetable1.columns"
   ]
  },
  {
   "cell_type": "code",
   "execution_count": 26,
   "metadata": {},
   "outputs": [
    {
     "data": {
      "text/plain": [
       "array([ 5.,  4.,  2.,  3.,  1.,  6.,  7.,  8., 99.])"
      ]
     },
     "execution_count": 26,
     "metadata": {},
     "output_type": "execute_result"
    }
   ],
   "source": [
    "casetable1[\"Age group\"].unique()"
   ]
  },
  {
   "cell_type": "code",
   "execution_count": 27,
   "metadata": {},
   "outputs": [
    {
     "data": {
      "text/plain": [
       "array([1., 2., 9., 3.])"
      ]
     },
     "execution_count": 27,
     "metadata": {},
     "output_type": "execute_result"
    }
   ],
   "source": [
    "casetable1[\"Gender\"].unique()"
   ]
  },
  {
   "cell_type": "code",
   "execution_count": 28,
   "metadata": {},
   "outputs": [
    {
     "data": {
      "text/plain": [
       "array([1., 9., 2.])"
      ]
     },
     "execution_count": 28,
     "metadata": {},
     "output_type": "execute_result"
    }
   ],
   "source": [
    "casetable1[\"Hospitalization\"].unique()"
   ]
  },
  {
   "cell_type": "code",
   "execution_count": 29,
   "metadata": {},
   "outputs": [
    {
     "data": {
      "text/plain": [
       "array([2., 9., 1.])"
      ]
     },
     "execution_count": 29,
     "metadata": {},
     "output_type": "execute_result"
    }
   ],
   "source": [
    "casetable1[\"Intensive care unit\"].unique()"
   ]
  },
  {
   "cell_type": "code",
   "execution_count": 30,
   "metadata": {},
   "outputs": [
    {
     "data": {
      "text/plain": [
       "array([1., 2., 3.])"
      ]
     },
     "execution_count": 30,
     "metadata": {},
     "output_type": "execute_result"
    }
   ],
   "source": [
    "casetable1[\"Transmission\"].unique()"
   ]
  },
  {
   "cell_type": "code",
   "execution_count": 31,
   "metadata": {},
   "outputs": [
    {
     "data": {
      "text/plain": [
       "array([ 1.,  2.,  3., 99.,  4.,  5.])"
      ]
     },
     "execution_count": 31,
     "metadata": {},
     "output_type": "execute_result"
    }
   ],
   "source": [
    "casetable1['Episode date - month'].unique()"
   ]
  },
  {
   "cell_type": "code",
   "execution_count": 32,
   "metadata": {},
   "outputs": [
    {
     "data": {
      "text/plain": [
       "array([21., 22., 24., 27., 15.,  9., 14.,  5., 18., 25., 26., 28., 20.,\n",
       "       23., 29., 99.,  1.,  2.,  4.,  8.,  3.,  7.,  6., 11., 10., 12.,\n",
       "       13., 16., 17., 19., 30., 31.])"
      ]
     },
     "execution_count": 32,
     "metadata": {},
     "output_type": "execute_result"
    }
   ],
   "source": [
    "casetable1['Episode date - day'].unique()"
   ]
  },
  {
   "cell_type": "code",
   "execution_count": 33,
   "metadata": {},
   "outputs": [],
   "source": [
    "casetable1=casetable1.rename(columns={\"Episode date - month\":\"Month\", \\\n",
    "                                      \"Episode date - day\":\"Day\", \\\n",
    "                                     \"Intensive care unit\":\"ICU\",\n",
    "                                     \"Age group\":\"AgeGroup\"})"
   ]
  },
  {
   "cell_type": "code",
   "execution_count": 34,
   "metadata": {},
   "outputs": [
    {
     "data": {
      "text/html": [
       "<div>\n",
       "<style scoped>\n",
       "    .dataframe tbody tr th:only-of-type {\n",
       "        vertical-align: middle;\n",
       "    }\n",
       "\n",
       "    .dataframe tbody tr th {\n",
       "        vertical-align: top;\n",
       "    }\n",
       "\n",
       "    .dataframe thead th {\n",
       "        text-align: right;\n",
       "    }\n",
       "</style>\n",
       "<table border=\"1\" class=\"dataframe\">\n",
       "  <thead>\n",
       "    <tr style=\"text-align: right;\">\n",
       "      <th>Case information</th>\n",
       "      <th>AgeGroup</th>\n",
       "      <th>Death</th>\n",
       "      <th>Day</th>\n",
       "      <th>Month</th>\n",
       "      <th>Gender</th>\n",
       "      <th>Hospitalization</th>\n",
       "      <th>ICU</th>\n",
       "      <th>Transmission</th>\n",
       "    </tr>\n",
       "    <tr>\n",
       "      <th>Case identifier number</th>\n",
       "      <th></th>\n",
       "      <th></th>\n",
       "      <th></th>\n",
       "      <th></th>\n",
       "      <th></th>\n",
       "      <th></th>\n",
       "      <th></th>\n",
       "      <th></th>\n",
       "    </tr>\n",
       "  </thead>\n",
       "  <tbody>\n",
       "    <tr>\n",
       "      <td>1</td>\n",
       "      <td>5.0</td>\n",
       "      <td>2.0</td>\n",
       "      <td>21.0</td>\n",
       "      <td>1.0</td>\n",
       "      <td>1.0</td>\n",
       "      <td>1.0</td>\n",
       "      <td>2.0</td>\n",
       "      <td>1.0</td>\n",
       "    </tr>\n",
       "    <tr>\n",
       "      <td>2</td>\n",
       "      <td>4.0</td>\n",
       "      <td>2.0</td>\n",
       "      <td>22.0</td>\n",
       "      <td>1.0</td>\n",
       "      <td>1.0</td>\n",
       "      <td>1.0</td>\n",
       "      <td>9.0</td>\n",
       "      <td>1.0</td>\n",
       "    </tr>\n",
       "    <tr>\n",
       "      <td>3</td>\n",
       "      <td>2.0</td>\n",
       "      <td>2.0</td>\n",
       "      <td>24.0</td>\n",
       "      <td>1.0</td>\n",
       "      <td>2.0</td>\n",
       "      <td>9.0</td>\n",
       "      <td>2.0</td>\n",
       "      <td>1.0</td>\n",
       "    </tr>\n",
       "    <tr>\n",
       "      <td>4</td>\n",
       "      <td>5.0</td>\n",
       "      <td>2.0</td>\n",
       "      <td>27.0</td>\n",
       "      <td>1.0</td>\n",
       "      <td>2.0</td>\n",
       "      <td>1.0</td>\n",
       "      <td>1.0</td>\n",
       "      <td>1.0</td>\n",
       "    </tr>\n",
       "    <tr>\n",
       "      <td>5</td>\n",
       "      <td>3.0</td>\n",
       "      <td>2.0</td>\n",
       "      <td>15.0</td>\n",
       "      <td>1.0</td>\n",
       "      <td>1.0</td>\n",
       "      <td>2.0</td>\n",
       "      <td>9.0</td>\n",
       "      <td>1.0</td>\n",
       "    </tr>\n",
       "  </tbody>\n",
       "</table>\n",
       "</div>"
      ],
      "text/plain": [
       "Case information        AgeGroup  Death   Day  Month  Gender  Hospitalization  \\\n",
       "Case identifier number                                                          \n",
       "1                            5.0    2.0  21.0    1.0     1.0              1.0   \n",
       "2                            4.0    2.0  22.0    1.0     1.0              1.0   \n",
       "3                            2.0    2.0  24.0    1.0     2.0              9.0   \n",
       "4                            5.0    2.0  27.0    1.0     2.0              1.0   \n",
       "5                            3.0    2.0  15.0    1.0     1.0              2.0   \n",
       "\n",
       "Case information        ICU  Transmission  \n",
       "Case identifier number                     \n",
       "1                       2.0           1.0  \n",
       "2                       9.0           1.0  \n",
       "3                       2.0           1.0  \n",
       "4                       1.0           1.0  \n",
       "5                       9.0           1.0  "
      ]
     },
     "execution_count": 34,
     "metadata": {},
     "output_type": "execute_result"
    }
   ],
   "source": [
    "casetable1.head()"
   ]
  },
  {
   "cell_type": "code",
   "execution_count": 35,
   "metadata": {},
   "outputs": [],
   "source": [
    "casetable2=casetable1.copy()"
   ]
  },
  {
   "cell_type": "code",
   "execution_count": 36,
   "metadata": {},
   "outputs": [],
   "source": [
    "casetable2=casetable2[casetable2.Month<13]\n",
    "casetable2=casetable2[casetable2.Day<32]"
   ]
  },
  {
   "cell_type": "code",
   "execution_count": 37,
   "metadata": {},
   "outputs": [
    {
     "data": {
      "text/html": [
       "<div>\n",
       "<style scoped>\n",
       "    .dataframe tbody tr th:only-of-type {\n",
       "        vertical-align: middle;\n",
       "    }\n",
       "\n",
       "    .dataframe tbody tr th {\n",
       "        vertical-align: top;\n",
       "    }\n",
       "\n",
       "    .dataframe thead th {\n",
       "        text-align: right;\n",
       "    }\n",
       "</style>\n",
       "<table border=\"1\" class=\"dataframe\">\n",
       "  <thead>\n",
       "    <tr style=\"text-align: right;\">\n",
       "      <th>Case information</th>\n",
       "      <th>AgeGroup</th>\n",
       "      <th>Death</th>\n",
       "      <th>Day</th>\n",
       "      <th>Month</th>\n",
       "      <th>Gender</th>\n",
       "      <th>Hospitalization</th>\n",
       "      <th>ICU</th>\n",
       "      <th>Transmission</th>\n",
       "    </tr>\n",
       "    <tr>\n",
       "      <th>Case identifier number</th>\n",
       "      <th></th>\n",
       "      <th></th>\n",
       "      <th></th>\n",
       "      <th></th>\n",
       "      <th></th>\n",
       "      <th></th>\n",
       "      <th></th>\n",
       "      <th></th>\n",
       "    </tr>\n",
       "  </thead>\n",
       "  <tbody>\n",
       "    <tr>\n",
       "      <td>1</td>\n",
       "      <td>5.0</td>\n",
       "      <td>2.0</td>\n",
       "      <td>21.0</td>\n",
       "      <td>1.0</td>\n",
       "      <td>1.0</td>\n",
       "      <td>1.0</td>\n",
       "      <td>2.0</td>\n",
       "      <td>1.0</td>\n",
       "    </tr>\n",
       "    <tr>\n",
       "      <td>2</td>\n",
       "      <td>4.0</td>\n",
       "      <td>2.0</td>\n",
       "      <td>22.0</td>\n",
       "      <td>1.0</td>\n",
       "      <td>1.0</td>\n",
       "      <td>1.0</td>\n",
       "      <td>9.0</td>\n",
       "      <td>1.0</td>\n",
       "    </tr>\n",
       "    <tr>\n",
       "      <td>3</td>\n",
       "      <td>2.0</td>\n",
       "      <td>2.0</td>\n",
       "      <td>24.0</td>\n",
       "      <td>1.0</td>\n",
       "      <td>2.0</td>\n",
       "      <td>9.0</td>\n",
       "      <td>2.0</td>\n",
       "      <td>1.0</td>\n",
       "    </tr>\n",
       "    <tr>\n",
       "      <td>4</td>\n",
       "      <td>5.0</td>\n",
       "      <td>2.0</td>\n",
       "      <td>27.0</td>\n",
       "      <td>1.0</td>\n",
       "      <td>2.0</td>\n",
       "      <td>1.0</td>\n",
       "      <td>1.0</td>\n",
       "      <td>1.0</td>\n",
       "    </tr>\n",
       "    <tr>\n",
       "      <td>5</td>\n",
       "      <td>3.0</td>\n",
       "      <td>2.0</td>\n",
       "      <td>15.0</td>\n",
       "      <td>1.0</td>\n",
       "      <td>1.0</td>\n",
       "      <td>2.0</td>\n",
       "      <td>9.0</td>\n",
       "      <td>1.0</td>\n",
       "    </tr>\n",
       "  </tbody>\n",
       "</table>\n",
       "</div>"
      ],
      "text/plain": [
       "Case information        AgeGroup  Death   Day  Month  Gender  Hospitalization  \\\n",
       "Case identifier number                                                          \n",
       "1                            5.0    2.0  21.0    1.0     1.0              1.0   \n",
       "2                            4.0    2.0  22.0    1.0     1.0              1.0   \n",
       "3                            2.0    2.0  24.0    1.0     2.0              9.0   \n",
       "4                            5.0    2.0  27.0    1.0     2.0              1.0   \n",
       "5                            3.0    2.0  15.0    1.0     1.0              2.0   \n",
       "\n",
       "Case information        ICU  Transmission  \n",
       "Case identifier number                     \n",
       "1                       2.0           1.0  \n",
       "2                       9.0           1.0  \n",
       "3                       2.0           1.0  \n",
       "4                       1.0           1.0  \n",
       "5                       9.0           1.0  "
      ]
     },
     "execution_count": 37,
     "metadata": {},
     "output_type": "execute_result"
    }
   ],
   "source": [
    "casetable2.head()"
   ]
  },
  {
   "cell_type": "code",
   "execution_count": 38,
   "metadata": {},
   "outputs": [],
   "source": [
    "from datetime import date\n",
    "casetable2[\"Date\"]=casetable2.apply(lambda row: date(2020,int(row.Month),int(row.Day)), axis=1)"
   ]
  },
  {
   "cell_type": "code",
   "execution_count": 39,
   "metadata": {},
   "outputs": [],
   "source": [
    "table3=casetable2.sort_values('Date')"
   ]
  },
  {
   "cell_type": "code",
   "execution_count": 40,
   "metadata": {},
   "outputs": [],
   "source": [
    "table3=table3.drop([\"Day\",\"Month\"],axis=1)"
   ]
  },
  {
   "cell_type": "code",
   "execution_count": 41,
   "metadata": {},
   "outputs": [
    {
     "data": {
      "text/html": [
       "<div>\n",
       "<style scoped>\n",
       "    .dataframe tbody tr th:only-of-type {\n",
       "        vertical-align: middle;\n",
       "    }\n",
       "\n",
       "    .dataframe tbody tr th {\n",
       "        vertical-align: top;\n",
       "    }\n",
       "\n",
       "    .dataframe thead th {\n",
       "        text-align: right;\n",
       "    }\n",
       "</style>\n",
       "<table border=\"1\" class=\"dataframe\">\n",
       "  <thead>\n",
       "    <tr style=\"text-align: right;\">\n",
       "      <th>Case information</th>\n",
       "      <th>AgeGroup</th>\n",
       "      <th>Death</th>\n",
       "      <th>Gender</th>\n",
       "      <th>Hospitalization</th>\n",
       "      <th>ICU</th>\n",
       "      <th>Transmission</th>\n",
       "      <th>Date</th>\n",
       "    </tr>\n",
       "    <tr>\n",
       "      <th>Case identifier number</th>\n",
       "      <th></th>\n",
       "      <th></th>\n",
       "      <th></th>\n",
       "      <th></th>\n",
       "      <th></th>\n",
       "      <th></th>\n",
       "      <th></th>\n",
       "    </tr>\n",
       "  </thead>\n",
       "  <tbody>\n",
       "    <tr>\n",
       "      <td>5</td>\n",
       "      <td>3.0</td>\n",
       "      <td>2.0</td>\n",
       "      <td>1.0</td>\n",
       "      <td>2.0</td>\n",
       "      <td>9.0</td>\n",
       "      <td>1.0</td>\n",
       "      <td>2020-01-15</td>\n",
       "    </tr>\n",
       "    <tr>\n",
       "      <td>20785</td>\n",
       "      <td>2.0</td>\n",
       "      <td>9.0</td>\n",
       "      <td>1.0</td>\n",
       "      <td>9.0</td>\n",
       "      <td>9.0</td>\n",
       "      <td>2.0</td>\n",
       "      <td>2020-01-19</td>\n",
       "    </tr>\n",
       "    <tr>\n",
       "      <td>1</td>\n",
       "      <td>5.0</td>\n",
       "      <td>2.0</td>\n",
       "      <td>1.0</td>\n",
       "      <td>1.0</td>\n",
       "      <td>2.0</td>\n",
       "      <td>1.0</td>\n",
       "      <td>2020-01-21</td>\n",
       "    </tr>\n",
       "    <tr>\n",
       "      <td>2</td>\n",
       "      <td>4.0</td>\n",
       "      <td>2.0</td>\n",
       "      <td>1.0</td>\n",
       "      <td>1.0</td>\n",
       "      <td>9.0</td>\n",
       "      <td>1.0</td>\n",
       "      <td>2020-01-22</td>\n",
       "    </tr>\n",
       "    <tr>\n",
       "      <td>423</td>\n",
       "      <td>5.0</td>\n",
       "      <td>2.0</td>\n",
       "      <td>2.0</td>\n",
       "      <td>2.0</td>\n",
       "      <td>9.0</td>\n",
       "      <td>1.0</td>\n",
       "      <td>2020-01-22</td>\n",
       "    </tr>\n",
       "  </tbody>\n",
       "</table>\n",
       "</div>"
      ],
      "text/plain": [
       "Case information        AgeGroup  Death  Gender  Hospitalization  ICU  \\\n",
       "Case identifier number                                                  \n",
       "5                            3.0    2.0     1.0              2.0  9.0   \n",
       "20785                        2.0    9.0     1.0              9.0  9.0   \n",
       "1                            5.0    2.0     1.0              1.0  2.0   \n",
       "2                            4.0    2.0     1.0              1.0  9.0   \n",
       "423                          5.0    2.0     2.0              2.0  9.0   \n",
       "\n",
       "Case information        Transmission        Date  \n",
       "Case identifier number                            \n",
       "5                                1.0  2020-01-15  \n",
       "20785                            2.0  2020-01-19  \n",
       "1                                1.0  2020-01-21  \n",
       "2                                1.0  2020-01-22  \n",
       "423                              1.0  2020-01-22  "
      ]
     },
     "execution_count": 41,
     "metadata": {},
     "output_type": "execute_result"
    }
   ],
   "source": [
    "table3.head()"
   ]
  },
  {
   "cell_type": "code",
   "execution_count": 42,
   "metadata": {},
   "outputs": [],
   "source": [
    "table4=spark.createDataFrame(table3)"
   ]
  },
  {
   "cell_type": "code",
   "execution_count": 43,
   "metadata": {},
   "outputs": [
    {
     "name": "stdout",
     "output_type": "stream",
     "text": [
      "+--------+-----+------+---------------+---+------------+----------+\n",
      "|AgeGroup|Death|Gender|Hospitalization|ICU|Transmission|      Date|\n",
      "+--------+-----+------+---------------+---+------------+----------+\n",
      "|     3.0|  2.0|   1.0|            2.0|9.0|         1.0|2020-01-15|\n",
      "|     2.0|  9.0|   1.0|            9.0|9.0|         2.0|2020-01-19|\n",
      "|     5.0|  2.0|   1.0|            1.0|2.0|         1.0|2020-01-21|\n",
      "|     4.0|  2.0|   1.0|            1.0|9.0|         1.0|2020-01-22|\n",
      "|     5.0|  2.0|   2.0|            2.0|9.0|         1.0|2020-01-22|\n",
      "+--------+-----+------+---------------+---+------------+----------+\n",
      "only showing top 5 rows\n",
      "\n"
     ]
    }
   ],
   "source": [
    "table4.show(5)"
   ]
  },
  {
   "cell_type": "code",
   "execution_count": 44,
   "metadata": {},
   "outputs": [
    {
     "data": {
      "text/html": [
       "<div>\n",
       "<style scoped>\n",
       "    .dataframe tbody tr th:only-of-type {\n",
       "        vertical-align: middle;\n",
       "    }\n",
       "\n",
       "    .dataframe tbody tr th {\n",
       "        vertical-align: top;\n",
       "    }\n",
       "\n",
       "    .dataframe thead th {\n",
       "        text-align: right;\n",
       "    }\n",
       "</style>\n",
       "<table border=\"1\" class=\"dataframe\">\n",
       "  <thead>\n",
       "    <tr style=\"text-align: right;\">\n",
       "      <th></th>\n",
       "      <th>1.0</th>\n",
       "      <th>2.0</th>\n",
       "      <th>3.0</th>\n",
       "      <th>4.0</th>\n",
       "      <th>5.0</th>\n",
       "      <th>6.0</th>\n",
       "      <th>7.0</th>\n",
       "      <th>8.0</th>\n",
       "      <th>99.0</th>\n",
       "    </tr>\n",
       "    <tr>\n",
       "      <th>Date_AgeGroup</th>\n",
       "      <th></th>\n",
       "      <th></th>\n",
       "      <th></th>\n",
       "      <th></th>\n",
       "      <th></th>\n",
       "      <th></th>\n",
       "      <th></th>\n",
       "      <th></th>\n",
       "      <th></th>\n",
       "    </tr>\n",
       "  </thead>\n",
       "  <tbody>\n",
       "    <tr>\n",
       "      <td>2020-05-01</td>\n",
       "      <td>1344</td>\n",
       "      <td>3509</td>\n",
       "      <td>4118</td>\n",
       "      <td>4675</td>\n",
       "      <td>4863</td>\n",
       "      <td>3616</td>\n",
       "      <td>2402</td>\n",
       "      <td>4879</td>\n",
       "      <td>382</td>\n",
       "    </tr>\n",
       "    <tr>\n",
       "      <td>2020-05-02</td>\n",
       "      <td>1359</td>\n",
       "      <td>3534</td>\n",
       "      <td>4142</td>\n",
       "      <td>4705</td>\n",
       "      <td>4882</td>\n",
       "      <td>3636</td>\n",
       "      <td>2419</td>\n",
       "      <td>4893</td>\n",
       "      <td>382</td>\n",
       "    </tr>\n",
       "    <tr>\n",
       "      <td>2020-05-03</td>\n",
       "      <td>1367</td>\n",
       "      <td>3550</td>\n",
       "      <td>4155</td>\n",
       "      <td>4721</td>\n",
       "      <td>4903</td>\n",
       "      <td>3651</td>\n",
       "      <td>2434</td>\n",
       "      <td>4909</td>\n",
       "      <td>382</td>\n",
       "    </tr>\n",
       "    <tr>\n",
       "      <td>2020-05-04</td>\n",
       "      <td>1369</td>\n",
       "      <td>3560</td>\n",
       "      <td>4167</td>\n",
       "      <td>4732</td>\n",
       "      <td>4921</td>\n",
       "      <td>3656</td>\n",
       "      <td>2446</td>\n",
       "      <td>4924</td>\n",
       "      <td>382</td>\n",
       "    </tr>\n",
       "    <tr>\n",
       "      <td>2020-05-05</td>\n",
       "      <td>1369</td>\n",
       "      <td>3565</td>\n",
       "      <td>4171</td>\n",
       "      <td>4733</td>\n",
       "      <td>4927</td>\n",
       "      <td>3657</td>\n",
       "      <td>2447</td>\n",
       "      <td>4931</td>\n",
       "      <td>382</td>\n",
       "    </tr>\n",
       "  </tbody>\n",
       "</table>\n",
       "</div>"
      ],
      "text/plain": [
       "                1.0   2.0   3.0   4.0   5.0   6.0   7.0   8.0  99.0\n",
       "Date_AgeGroup                                                      \n",
       "2020-05-01     1344  3509  4118  4675  4863  3616  2402  4879   382\n",
       "2020-05-02     1359  3534  4142  4705  4882  3636  2419  4893   382\n",
       "2020-05-03     1367  3550  4155  4721  4903  3651  2434  4909   382\n",
       "2020-05-04     1369  3560  4167  4732  4921  3656  2446  4924   382\n",
       "2020-05-05     1369  3565  4171  4733  4927  3657  2447  4931   382"
      ]
     },
     "execution_count": 44,
     "metadata": {},
     "output_type": "execute_result"
    }
   ],
   "source": [
    "table_AgeGroup=table4.crosstab('Date',\"AgeGroup\").toPandas().sort_values('Date_AgeGroup')\n",
    "\n",
    "table_AgeGroup=table_AgeGroup.set_index(\"Date_AgeGroup\").cumsum()\n",
    "\n",
    "table_AgeGroup.tail()"
   ]
  },
  {
   "cell_type": "markdown",
   "metadata": {},
   "source": [
    "Age group codes: 1 = 0 to 19 years, 2 = 20 to 29 years, 3 = 30 to 39 years, 4 = 40 to 49 years, 5 = 50 to 59 years, 6 = 60 to 69 years, 7 = 70 to 79 years, 8 = 80 years or older, 99 = Not stated. These values are corrected as the Public Health Agency of Canada (PHAC) receives new information."
   ]
  },
  {
   "cell_type": "code",
   "execution_count": 45,
   "metadata": {},
   "outputs": [
    {
     "data": {
      "text/html": [
       "<div>\n",
       "<style scoped>\n",
       "    .dataframe tbody tr th:only-of-type {\n",
       "        vertical-align: middle;\n",
       "    }\n",
       "\n",
       "    .dataframe tbody tr th {\n",
       "        vertical-align: top;\n",
       "    }\n",
       "\n",
       "    .dataframe thead th {\n",
       "        text-align: right;\n",
       "    }\n",
       "</style>\n",
       "<table border=\"1\" class=\"dataframe\">\n",
       "  <thead>\n",
       "    <tr style=\"text-align: right;\">\n",
       "      <th></th>\n",
       "      <th>1.0</th>\n",
       "      <th>2.0</th>\n",
       "      <th>9.0</th>\n",
       "    </tr>\n",
       "    <tr>\n",
       "      <th>Date_Death</th>\n",
       "      <th></th>\n",
       "      <th></th>\n",
       "      <th></th>\n",
       "    </tr>\n",
       "  </thead>\n",
       "  <tbody>\n",
       "    <tr>\n",
       "      <td>2020-05-01</td>\n",
       "      <td>1678</td>\n",
       "      <td>13151</td>\n",
       "      <td>14959</td>\n",
       "    </tr>\n",
       "    <tr>\n",
       "      <td>2020-05-02</td>\n",
       "      <td>1678</td>\n",
       "      <td>13158</td>\n",
       "      <td>15116</td>\n",
       "    </tr>\n",
       "    <tr>\n",
       "      <td>2020-05-03</td>\n",
       "      <td>1678</td>\n",
       "      <td>13166</td>\n",
       "      <td>15228</td>\n",
       "    </tr>\n",
       "    <tr>\n",
       "      <td>2020-05-04</td>\n",
       "      <td>1678</td>\n",
       "      <td>13172</td>\n",
       "      <td>15307</td>\n",
       "    </tr>\n",
       "    <tr>\n",
       "      <td>2020-05-05</td>\n",
       "      <td>1678</td>\n",
       "      <td>13172</td>\n",
       "      <td>15332</td>\n",
       "    </tr>\n",
       "  </tbody>\n",
       "</table>\n",
       "</div>"
      ],
      "text/plain": [
       "             1.0    2.0    9.0\n",
       "Date_Death                    \n",
       "2020-05-01  1678  13151  14959\n",
       "2020-05-02  1678  13158  15116\n",
       "2020-05-03  1678  13166  15228\n",
       "2020-05-04  1678  13172  15307\n",
       "2020-05-05  1678  13172  15332"
      ]
     },
     "execution_count": 45,
     "metadata": {},
     "output_type": "execute_result"
    }
   ],
   "source": [
    "table_Death=table4.crosstab('Date',\"Death\").toPandas().sort_values('Date_Death')\n",
    "\n",
    "table_Death=table_Death.set_index(\"Date_Death\").cumsum()\n",
    "table_Death.tail()"
   ]
  },
  {
   "cell_type": "markdown",
   "metadata": {},
   "source": [
    "Death: 1 = Yes, 2 = No, 9 = Not stated."
   ]
  },
  {
   "cell_type": "code",
   "execution_count": 46,
   "metadata": {},
   "outputs": [
    {
     "data": {
      "text/html": [
       "<div>\n",
       "<style scoped>\n",
       "    .dataframe tbody tr th:only-of-type {\n",
       "        vertical-align: middle;\n",
       "    }\n",
       "\n",
       "    .dataframe tbody tr th {\n",
       "        vertical-align: top;\n",
       "    }\n",
       "\n",
       "    .dataframe thead th {\n",
       "        text-align: right;\n",
       "    }\n",
       "</style>\n",
       "<table border=\"1\" class=\"dataframe\">\n",
       "  <thead>\n",
       "    <tr style=\"text-align: right;\">\n",
       "      <th></th>\n",
       "      <th>1.0</th>\n",
       "      <th>2.0</th>\n",
       "      <th>3.0</th>\n",
       "      <th>9.0</th>\n",
       "    </tr>\n",
       "    <tr>\n",
       "      <th>Date_Gender</th>\n",
       "      <th></th>\n",
       "      <th></th>\n",
       "      <th></th>\n",
       "      <th></th>\n",
       "    </tr>\n",
       "  </thead>\n",
       "  <tbody>\n",
       "    <tr>\n",
       "      <td>2020-05-01</td>\n",
       "      <td>13222</td>\n",
       "      <td>16365</td>\n",
       "      <td>11</td>\n",
       "      <td>190</td>\n",
       "    </tr>\n",
       "    <tr>\n",
       "      <td>2020-05-02</td>\n",
       "      <td>13300</td>\n",
       "      <td>16450</td>\n",
       "      <td>11</td>\n",
       "      <td>191</td>\n",
       "    </tr>\n",
       "    <tr>\n",
       "      <td>2020-05-03</td>\n",
       "      <td>13349</td>\n",
       "      <td>16520</td>\n",
       "      <td>11</td>\n",
       "      <td>192</td>\n",
       "    </tr>\n",
       "    <tr>\n",
       "      <td>2020-05-04</td>\n",
       "      <td>13386</td>\n",
       "      <td>16568</td>\n",
       "      <td>11</td>\n",
       "      <td>192</td>\n",
       "    </tr>\n",
       "    <tr>\n",
       "      <td>2020-05-05</td>\n",
       "      <td>13397</td>\n",
       "      <td>16581</td>\n",
       "      <td>11</td>\n",
       "      <td>193</td>\n",
       "    </tr>\n",
       "  </tbody>\n",
       "</table>\n",
       "</div>"
      ],
      "text/plain": [
       "               1.0    2.0  3.0  9.0\n",
       "Date_Gender                        \n",
       "2020-05-01   13222  16365   11  190\n",
       "2020-05-02   13300  16450   11  191\n",
       "2020-05-03   13349  16520   11  192\n",
       "2020-05-04   13386  16568   11  192\n",
       "2020-05-05   13397  16581   11  193"
      ]
     },
     "execution_count": 46,
     "metadata": {},
     "output_type": "execute_result"
    }
   ],
   "source": [
    "table_Gender=table4.crosstab('Date',\"Gender\").toPandas().sort_values('Date_Gender')\n",
    "\n",
    "table_Gender=table_Gender.set_index(\"Date_Gender\").cumsum()\n",
    "table_Gender.tail()"
   ]
  },
  {
   "cell_type": "markdown",
   "metadata": {},
   "source": [
    "Gender codes: 1 = Male, 2 = Female, 3 = Non-binary, 9 = Not stated. These values are corrected as the Public Health Agency of Canada (PHAC) receives new information. It should be noted that the French form uses the term ‘sex’ contrary to the English form that uses the term ‘gender’. In the context of this table, the term gender is also used in French and the cases that have reported ‘other’ for the sex have been categorized as a ‘non-binary’ gender."
   ]
  },
  {
   "cell_type": "code",
   "execution_count": 47,
   "metadata": {},
   "outputs": [
    {
     "data": {
      "text/html": [
       "<div>\n",
       "<style scoped>\n",
       "    .dataframe tbody tr th:only-of-type {\n",
       "        vertical-align: middle;\n",
       "    }\n",
       "\n",
       "    .dataframe tbody tr th {\n",
       "        vertical-align: top;\n",
       "    }\n",
       "\n",
       "    .dataframe thead th {\n",
       "        text-align: right;\n",
       "    }\n",
       "</style>\n",
       "<table border=\"1\" class=\"dataframe\">\n",
       "  <thead>\n",
       "    <tr style=\"text-align: right;\">\n",
       "      <th></th>\n",
       "      <th>1.0</th>\n",
       "      <th>2.0</th>\n",
       "      <th>9.0</th>\n",
       "    </tr>\n",
       "    <tr>\n",
       "      <th>Date_Hospitalization</th>\n",
       "      <th></th>\n",
       "      <th></th>\n",
       "      <th></th>\n",
       "    </tr>\n",
       "  </thead>\n",
       "  <tbody>\n",
       "    <tr>\n",
       "      <td>2020-05-01</td>\n",
       "      <td>3191</td>\n",
       "      <td>15984</td>\n",
       "      <td>10613</td>\n",
       "    </tr>\n",
       "    <tr>\n",
       "      <td>2020-05-02</td>\n",
       "      <td>3200</td>\n",
       "      <td>16031</td>\n",
       "      <td>10721</td>\n",
       "    </tr>\n",
       "    <tr>\n",
       "      <td>2020-05-03</td>\n",
       "      <td>3210</td>\n",
       "      <td>16063</td>\n",
       "      <td>10799</td>\n",
       "    </tr>\n",
       "    <tr>\n",
       "      <td>2020-05-04</td>\n",
       "      <td>3212</td>\n",
       "      <td>16087</td>\n",
       "      <td>10858</td>\n",
       "    </tr>\n",
       "    <tr>\n",
       "      <td>2020-05-05</td>\n",
       "      <td>3212</td>\n",
       "      <td>16094</td>\n",
       "      <td>10876</td>\n",
       "    </tr>\n",
       "  </tbody>\n",
       "</table>\n",
       "</div>"
      ],
      "text/plain": [
       "                       1.0    2.0    9.0\n",
       "Date_Hospitalization                    \n",
       "2020-05-01            3191  15984  10613\n",
       "2020-05-02            3200  16031  10721\n",
       "2020-05-03            3210  16063  10799\n",
       "2020-05-04            3212  16087  10858\n",
       "2020-05-05            3212  16094  10876"
      ]
     },
     "execution_count": 47,
     "metadata": {},
     "output_type": "execute_result"
    }
   ],
   "source": [
    "table_Hospitalization=table4.crosstab('Date',\"Hospitalization\").toPandas().sort_values('Date_Hospitalization')\n",
    "\n",
    "table_Hospitalization=table_Hospitalization.set_index(\"Date_Hospitalization\").cumsum()\n",
    "table_Hospitalization.tail()"
   ]
  },
  {
   "cell_type": "markdown",
   "metadata": {},
   "source": [
    "Hospitalization: 1 = Yes, 2 = No, 9 = Not Stated."
   ]
  },
  {
   "cell_type": "code",
   "execution_count": 48,
   "metadata": {},
   "outputs": [
    {
     "data": {
      "text/html": [
       "<div>\n",
       "<style scoped>\n",
       "    .dataframe tbody tr th:only-of-type {\n",
       "        vertical-align: middle;\n",
       "    }\n",
       "\n",
       "    .dataframe tbody tr th {\n",
       "        vertical-align: top;\n",
       "    }\n",
       "\n",
       "    .dataframe thead th {\n",
       "        text-align: right;\n",
       "    }\n",
       "</style>\n",
       "<table border=\"1\" class=\"dataframe\">\n",
       "  <thead>\n",
       "    <tr style=\"text-align: right;\">\n",
       "      <th></th>\n",
       "      <th>1.0</th>\n",
       "      <th>2.0</th>\n",
       "      <th>9.0</th>\n",
       "    </tr>\n",
       "    <tr>\n",
       "      <th>Date_ICU</th>\n",
       "      <th></th>\n",
       "      <th></th>\n",
       "      <th></th>\n",
       "    </tr>\n",
       "  </thead>\n",
       "  <tbody>\n",
       "    <tr>\n",
       "      <td>2020-05-01</td>\n",
       "      <td>753</td>\n",
       "      <td>7232</td>\n",
       "      <td>21803</td>\n",
       "    </tr>\n",
       "    <tr>\n",
       "      <td>2020-05-02</td>\n",
       "      <td>753</td>\n",
       "      <td>7249</td>\n",
       "      <td>21950</td>\n",
       "    </tr>\n",
       "    <tr>\n",
       "      <td>2020-05-03</td>\n",
       "      <td>755</td>\n",
       "      <td>7268</td>\n",
       "      <td>22049</td>\n",
       "    </tr>\n",
       "    <tr>\n",
       "      <td>2020-05-04</td>\n",
       "      <td>755</td>\n",
       "      <td>7284</td>\n",
       "      <td>22118</td>\n",
       "    </tr>\n",
       "    <tr>\n",
       "      <td>2020-05-05</td>\n",
       "      <td>755</td>\n",
       "      <td>7289</td>\n",
       "      <td>22138</td>\n",
       "    </tr>\n",
       "  </tbody>\n",
       "</table>\n",
       "</div>"
      ],
      "text/plain": [
       "            1.0   2.0    9.0\n",
       "Date_ICU                    \n",
       "2020-05-01  753  7232  21803\n",
       "2020-05-02  753  7249  21950\n",
       "2020-05-03  755  7268  22049\n",
       "2020-05-04  755  7284  22118\n",
       "2020-05-05  755  7289  22138"
      ]
     },
     "execution_count": 48,
     "metadata": {},
     "output_type": "execute_result"
    }
   ],
   "source": [
    "table_ICU=table4.crosstab('Date',\"ICU\").toPandas().sort_values('Date_ICU')\n",
    "\n",
    "table_ICU=table_ICU.set_index(\"Date_ICU\").cumsum()\n",
    "table_ICU.tail()"
   ]
  },
  {
   "cell_type": "markdown",
   "metadata": {},
   "source": [
    "Patient was admitted to the intensive care unit: 1 = Yes, 2 = No, 9 = Not Stated."
   ]
  },
  {
   "cell_type": "code",
   "execution_count": 49,
   "metadata": {},
   "outputs": [
    {
     "data": {
      "text/html": [
       "<div>\n",
       "<style scoped>\n",
       "    .dataframe tbody tr th:only-of-type {\n",
       "        vertical-align: middle;\n",
       "    }\n",
       "\n",
       "    .dataframe tbody tr th {\n",
       "        vertical-align: top;\n",
       "    }\n",
       "\n",
       "    .dataframe thead th {\n",
       "        text-align: right;\n",
       "    }\n",
       "</style>\n",
       "<table border=\"1\" class=\"dataframe\">\n",
       "  <thead>\n",
       "    <tr style=\"text-align: right;\">\n",
       "      <th></th>\n",
       "      <th>1.0</th>\n",
       "      <th>2.0</th>\n",
       "      <th>3.0</th>\n",
       "      <th>cases</th>\n",
       "    </tr>\n",
       "    <tr>\n",
       "      <th>Date_Transmission</th>\n",
       "      <th></th>\n",
       "      <th></th>\n",
       "      <th></th>\n",
       "      <th></th>\n",
       "    </tr>\n",
       "  </thead>\n",
       "  <tbody>\n",
       "    <tr>\n",
       "      <td>2020-05-01</td>\n",
       "      <td>4454</td>\n",
       "      <td>20418</td>\n",
       "      <td>4916</td>\n",
       "      <td>29788</td>\n",
       "    </tr>\n",
       "    <tr>\n",
       "      <td>2020-05-02</td>\n",
       "      <td>4456</td>\n",
       "      <td>20452</td>\n",
       "      <td>5044</td>\n",
       "      <td>29952</td>\n",
       "    </tr>\n",
       "    <tr>\n",
       "      <td>2020-05-03</td>\n",
       "      <td>4456</td>\n",
       "      <td>20476</td>\n",
       "      <td>5140</td>\n",
       "      <td>30072</td>\n",
       "    </tr>\n",
       "    <tr>\n",
       "      <td>2020-05-04</td>\n",
       "      <td>4456</td>\n",
       "      <td>20485</td>\n",
       "      <td>5216</td>\n",
       "      <td>30157</td>\n",
       "    </tr>\n",
       "    <tr>\n",
       "      <td>2020-05-05</td>\n",
       "      <td>4456</td>\n",
       "      <td>20487</td>\n",
       "      <td>5239</td>\n",
       "      <td>30182</td>\n",
       "    </tr>\n",
       "  </tbody>\n",
       "</table>\n",
       "</div>"
      ],
      "text/plain": [
       "                    1.0    2.0   3.0  cases\n",
       "Date_Transmission                          \n",
       "2020-05-01         4454  20418  4916  29788\n",
       "2020-05-02         4456  20452  5044  29952\n",
       "2020-05-03         4456  20476  5140  30072\n",
       "2020-05-04         4456  20485  5216  30157\n",
       "2020-05-05         4456  20487  5239  30182"
      ]
     },
     "execution_count": 49,
     "metadata": {},
     "output_type": "execute_result"
    }
   ],
   "source": [
    "table_Transmission=table4.crosstab('Date',\"Transmission\").toPandas().sort_values('Date_Transmission')\n",
    "\n",
    "table_Transmission=table_Transmission.set_index(\"Date_Transmission\").cumsum()\n",
    "table_Transmission['cases'] =table_Transmission['1.0']+table_Transmission['2.0']+table_Transmission['3.0']\n",
    "table_Transmission.tail()"
   ]
  },
  {
   "cell_type": "markdown",
   "metadata": {},
   "source": [
    "Transmission codes: 1= Travel exposure – cases that had contact with a travel-related case or had travelled outside of Canada in the 14 days prior to illness onset. 2 = Community exposure – cases that had no known contact with a travel-related case and had not travelled outside of Canada in the 14 days prior to illness onset. 3 = Pending – confirmation on exposure setting is pending. These values are corrected as the Public Health Agency of Canada (PHAC) receives new information."
   ]
  },
  {
   "cell_type": "code",
   "execution_count": 50,
   "metadata": {},
   "outputs": [],
   "source": [
    "# create a dataframe to store ratios\n",
    "ratios = pd.DataFrame({'date':[],\n",
    "                       'Age(0-19)':[],\n",
    "                       'Age(20-9)':[],\n",
    "                       'Age(30-9)':[],\n",
    "                       'Age(40-9)':[],\n",
    "                       'Age(50-9)':[],\n",
    "                       'Age(60-9)':[],\n",
    "                       'Age(70-9)':[],\n",
    "                       'Age(80-)':[],\n",
    "                       'Age(unkown)':[],\n",
    "                       'Gender(Male)':[],\n",
    "                       'Gender(Femail)':[],\n",
    "                       'Gender(Non-binary)':[],\n",
    "                       'Gender(Not stated)':[],\n",
    "                       'Transmission(Travel)':[],\n",
    "                       'Transmission(Community)':[],\n",
    "                       'Transmission(Pending)':[],                       \n",
    "                       'Hospitalization(Yes)':[],\n",
    "                       'Hospitalization(Nes)':[],\n",
    "                       'Hospitalization(Not Stated)':[], \n",
    "                       'ICU(Yes)':[],\n",
    "                       'ICU(No)':[],\n",
    "                       'ICU(Not Stated)':[],                       \n",
    "                       'Death(Yes)':[], \n",
    "                       'Death(No)':[], \n",
    "                       'Death(Not stated)':[]})"
   ]
  },
  {
   "cell_type": "code",
   "execution_count": 51,
   "metadata": {},
   "outputs": [],
   "source": [
    "ratios['date']=table_Transmission.index"
   ]
  },
  {
   "cell_type": "code",
   "execution_count": 52,
   "metadata": {},
   "outputs": [
    {
     "name": "stdout",
     "output_type": "stream",
     "text": [
      "('Age(0-19)', '1.0')\n",
      "('Age(20-9)', '2.0')\n",
      "('Age(30-9)', '3.0')\n",
      "('Age(40-9)', '4.0')\n",
      "('Age(50-9)', '5.0')\n",
      "('Age(60-9)', '6.0')\n",
      "('Age(70-9)', '7.0')\n",
      "('Age(80-)', '8.0')\n",
      "('Age(unkown)', '99.0')\n"
     ]
    }
   ],
   "source": [
    "for col1,col2 in zip(ratios.columns[1:10],table_AgeGroup.columns):\n",
    "    print((col1,col2))\n",
    "    ratios[col1] = np.around(np.array(table_AgeGroup[col2])/np.array(table_Transmission['cases'])*100,decimals=1)\n",
    "#table_AgeGroup.columns"
   ]
  },
  {
   "cell_type": "code",
   "execution_count": 53,
   "metadata": {},
   "outputs": [
    {
     "name": "stdout",
     "output_type": "stream",
     "text": [
      "('Gender(Male)', '1.0')\n",
      "('Gender(Femail)', '2.0')\n",
      "('Gender(Non-binary)', '3.0')\n",
      "('Gender(Not stated)', '9.0')\n"
     ]
    }
   ],
   "source": [
    "for col1,col2 in zip(ratios.columns[10:14],table_Gender.columns):\n",
    "    print((col1,col2))\n",
    "    ratios[col1] = np.around(np.array(table_Gender[col2])/np.array(table_Transmission['cases'])*100,decimals=1)"
   ]
  },
  {
   "cell_type": "code",
   "execution_count": 54,
   "metadata": {},
   "outputs": [
    {
     "name": "stdout",
     "output_type": "stream",
     "text": [
      "('Transmission(Travel)', '1.0')\n",
      "('Transmission(Community)', '2.0')\n",
      "('Transmission(Pending)', '3.0')\n"
     ]
    }
   ],
   "source": [
    "for col1,col2 in zip(ratios.columns[14:17],table_Transmission.columns):\n",
    "    print((col1,col2))\n",
    "    ratios[col1] = np.around(np.array(table_Transmission[col2])/np.array(table_Transmission['cases'])*100,decimals=1)"
   ]
  },
  {
   "cell_type": "code",
   "execution_count": 55,
   "metadata": {},
   "outputs": [
    {
     "name": "stdout",
     "output_type": "stream",
     "text": [
      "('Hospitalization(Yes)', '1.0')\n",
      "('Hospitalization(Nes)', '2.0')\n",
      "('Hospitalization(Not Stated)', '9.0')\n"
     ]
    }
   ],
   "source": [
    "for col1,col2 in zip(ratios.columns[17:20],table_Hospitalization.columns):\n",
    "    print((col1,col2))\n",
    "    ratios[col1] = np.around(np.array(table_Hospitalization[col2])/np.array(table_Transmission['cases'])*100,decimals=1)"
   ]
  },
  {
   "cell_type": "code",
   "execution_count": 56,
   "metadata": {},
   "outputs": [
    {
     "name": "stdout",
     "output_type": "stream",
     "text": [
      "('ICU(Yes)', '1.0')\n",
      "('ICU(No)', '2.0')\n",
      "('ICU(Not Stated)', '9.0')\n"
     ]
    }
   ],
   "source": [
    "for col1,col2 in zip(ratios.columns[20:23],table_ICU.columns):\n",
    "    print((col1,col2))\n",
    "    ratios[col1] = np.around(np.array(table_ICU[col2])/np.array(table_Transmission['cases'])*100,decimals=1)"
   ]
  },
  {
   "cell_type": "code",
   "execution_count": 57,
   "metadata": {},
   "outputs": [
    {
     "name": "stdout",
     "output_type": "stream",
     "text": [
      "('Death(Yes)', '1.0')\n",
      "('Death(No)', '2.0')\n",
      "('Death(Not stated)', '9.0')\n"
     ]
    }
   ],
   "source": [
    "for col1,col2 in zip(ratios.columns[23:26],table_Death.columns):\n",
    "    print((col1,col2))\n",
    "    ratios[col1] = np.around(np.array(table_Death[col2])/np.array(table_Transmission['cases'])*100,decimals=1)"
   ]
  },
  {
   "cell_type": "code",
   "execution_count": 58,
   "metadata": {},
   "outputs": [],
   "source": [
    "ratios.to_csv('data/COVID19/toYuanPei/Canada_COVID19_ratios_based_on_Confirmed_details.csv')"
   ]
  },
  {
   "cell_type": "code",
   "execution_count": null,
   "metadata": {},
   "outputs": [],
   "source": []
  },
  {
   "cell_type": "code",
   "execution_count": null,
   "metadata": {},
   "outputs": [],
   "source": []
  }
 ],
 "metadata": {
  "kernelspec": {
   "display_name": "Python 3",
   "language": "python",
   "name": "python3"
  },
  "language_info": {
   "codemirror_mode": {
    "name": "ipython",
    "version": 3
   },
   "file_extension": ".py",
   "mimetype": "text/x-python",
   "name": "python",
   "nbconvert_exporter": "python",
   "pygments_lexer": "ipython3",
   "version": "3.7.4"
  }
 },
 "nbformat": 4,
 "nbformat_minor": 2
}
