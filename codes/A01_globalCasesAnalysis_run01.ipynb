{
 "cells": [
  {
   "cell_type": "code",
   "execution_count": 1,
   "metadata": {},
   "outputs": [],
   "source": [
    "import pandas as pd\n",
    "import numpy as np\n",
    "import matplotlib.pyplot as plt\n",
    "from matplotlib import ticker \n",
    "import pycountry_convert as pc\n",
    "import folium\n",
    "from datetime import datetime,date\n",
    "from scipy.interpolate import make_interp_spline, BSpline\n",
    "\n",
    "%matplotlib inline\n",
    "\n",
    "import os\n",
    "\n",
    "import ipywidgets as widgets\n",
    "from ipywidgets import interact, interact_manual\n",
    "import cufflinks as cf"
   ]
  },
  {
   "cell_type": "code",
   "execution_count": 2,
   "metadata": {},
   "outputs": [],
   "source": [
    "def Reverse(lst): \n",
    "    return [ele for ele in reversed(lst)]"
   ]
  },
  {
   "cell_type": "code",
   "execution_count": 3,
   "metadata": {},
   "outputs": [],
   "source": [
    "path='data/COVID19/JHU/COVID-19-master/csse_covid_19_data/csse_covid_19_time_series'\n",
    "confirmed_fn=os.path.join(path,'time_series_covid19_confirmed_global.csv')\n",
    "deaths_fn=os.path.join(path,'time_series_covid19_deaths_global.csv')\n",
    "recovered_fn=os.path.join(path,'time_series_covid19_recovered_global.csv')"
   ]
  },
  {
   "cell_type": "code",
   "execution_count": 4,
   "metadata": {},
   "outputs": [
    {
     "data": {
      "text/plain": [
       "'data/COVID19/JHU/COVID-19-master/csse_covid_19_data/csse_covid_19_time_series/time_series_covid19_confirmed_global.csv'"
      ]
     },
     "execution_count": 4,
     "metadata": {},
     "output_type": "execute_result"
    }
   ],
   "source": [
    "confirmed_fn"
   ]
  },
  {
   "cell_type": "code",
   "execution_count": 5,
   "metadata": {},
   "outputs": [],
   "source": [
    "df_confirmed = pd.read_csv(confirmed_fn)\n",
    "df_deaths = pd.read_csv(deaths_fn)\n",
    "df_recovered = pd.read_csv(recovered_fn)"
   ]
  },
  {
   "cell_type": "code",
   "execution_count": 6,
   "metadata": {},
   "outputs": [
    {
     "data": {
      "text/html": [
       "<div>\n",
       "<style scoped>\n",
       "    .dataframe tbody tr th:only-of-type {\n",
       "        vertical-align: middle;\n",
       "    }\n",
       "\n",
       "    .dataframe tbody tr th {\n",
       "        vertical-align: top;\n",
       "    }\n",
       "\n",
       "    .dataframe thead th {\n",
       "        text-align: right;\n",
       "    }\n",
       "</style>\n",
       "<table border=\"1\" class=\"dataframe\">\n",
       "  <thead>\n",
       "    <tr style=\"text-align: right;\">\n",
       "      <th></th>\n",
       "      <th>Province/State</th>\n",
       "      <th>Country/Region</th>\n",
       "      <th>Lat</th>\n",
       "      <th>Long</th>\n",
       "      <th>1/22/20</th>\n",
       "      <th>1/23/20</th>\n",
       "      <th>1/24/20</th>\n",
       "      <th>1/25/20</th>\n",
       "      <th>1/26/20</th>\n",
       "      <th>1/27/20</th>\n",
       "      <th>...</th>\n",
       "      <th>4/28/20</th>\n",
       "      <th>4/29/20</th>\n",
       "      <th>4/30/20</th>\n",
       "      <th>5/1/20</th>\n",
       "      <th>5/2/20</th>\n",
       "      <th>5/3/20</th>\n",
       "      <th>5/4/20</th>\n",
       "      <th>5/5/20</th>\n",
       "      <th>5/6/20</th>\n",
       "      <th>5/7/20</th>\n",
       "    </tr>\n",
       "  </thead>\n",
       "  <tbody>\n",
       "    <tr>\n",
       "      <td>0</td>\n",
       "      <td>NaN</td>\n",
       "      <td>Afghanistan</td>\n",
       "      <td>33.0000</td>\n",
       "      <td>65.0000</td>\n",
       "      <td>0</td>\n",
       "      <td>0</td>\n",
       "      <td>0</td>\n",
       "      <td>0</td>\n",
       "      <td>0</td>\n",
       "      <td>0</td>\n",
       "      <td>...</td>\n",
       "      <td>1828</td>\n",
       "      <td>1939</td>\n",
       "      <td>2171</td>\n",
       "      <td>2335</td>\n",
       "      <td>2469</td>\n",
       "      <td>2704</td>\n",
       "      <td>2894</td>\n",
       "      <td>3224</td>\n",
       "      <td>3392</td>\n",
       "      <td>3563</td>\n",
       "    </tr>\n",
       "    <tr>\n",
       "      <td>1</td>\n",
       "      <td>NaN</td>\n",
       "      <td>Albania</td>\n",
       "      <td>41.1533</td>\n",
       "      <td>20.1683</td>\n",
       "      <td>0</td>\n",
       "      <td>0</td>\n",
       "      <td>0</td>\n",
       "      <td>0</td>\n",
       "      <td>0</td>\n",
       "      <td>0</td>\n",
       "      <td>...</td>\n",
       "      <td>750</td>\n",
       "      <td>766</td>\n",
       "      <td>773</td>\n",
       "      <td>782</td>\n",
       "      <td>789</td>\n",
       "      <td>795</td>\n",
       "      <td>803</td>\n",
       "      <td>820</td>\n",
       "      <td>832</td>\n",
       "      <td>842</td>\n",
       "    </tr>\n",
       "    <tr>\n",
       "      <td>2</td>\n",
       "      <td>NaN</td>\n",
       "      <td>Algeria</td>\n",
       "      <td>28.0339</td>\n",
       "      <td>1.6596</td>\n",
       "      <td>0</td>\n",
       "      <td>0</td>\n",
       "      <td>0</td>\n",
       "      <td>0</td>\n",
       "      <td>0</td>\n",
       "      <td>0</td>\n",
       "      <td>...</td>\n",
       "      <td>3649</td>\n",
       "      <td>3848</td>\n",
       "      <td>4006</td>\n",
       "      <td>4154</td>\n",
       "      <td>4295</td>\n",
       "      <td>4474</td>\n",
       "      <td>4648</td>\n",
       "      <td>4838</td>\n",
       "      <td>4997</td>\n",
       "      <td>5182</td>\n",
       "    </tr>\n",
       "    <tr>\n",
       "      <td>3</td>\n",
       "      <td>NaN</td>\n",
       "      <td>Andorra</td>\n",
       "      <td>42.5063</td>\n",
       "      <td>1.5218</td>\n",
       "      <td>0</td>\n",
       "      <td>0</td>\n",
       "      <td>0</td>\n",
       "      <td>0</td>\n",
       "      <td>0</td>\n",
       "      <td>0</td>\n",
       "      <td>...</td>\n",
       "      <td>743</td>\n",
       "      <td>743</td>\n",
       "      <td>745</td>\n",
       "      <td>745</td>\n",
       "      <td>747</td>\n",
       "      <td>748</td>\n",
       "      <td>750</td>\n",
       "      <td>751</td>\n",
       "      <td>751</td>\n",
       "      <td>752</td>\n",
       "    </tr>\n",
       "    <tr>\n",
       "      <td>4</td>\n",
       "      <td>NaN</td>\n",
       "      <td>Angola</td>\n",
       "      <td>-11.2027</td>\n",
       "      <td>17.8739</td>\n",
       "      <td>0</td>\n",
       "      <td>0</td>\n",
       "      <td>0</td>\n",
       "      <td>0</td>\n",
       "      <td>0</td>\n",
       "      <td>0</td>\n",
       "      <td>...</td>\n",
       "      <td>27</td>\n",
       "      <td>27</td>\n",
       "      <td>27</td>\n",
       "      <td>30</td>\n",
       "      <td>35</td>\n",
       "      <td>35</td>\n",
       "      <td>35</td>\n",
       "      <td>36</td>\n",
       "      <td>36</td>\n",
       "      <td>36</td>\n",
       "    </tr>\n",
       "  </tbody>\n",
       "</table>\n",
       "<p>5 rows × 111 columns</p>\n",
       "</div>"
      ],
      "text/plain": [
       "  Province/State Country/Region      Lat     Long  1/22/20  1/23/20  1/24/20  \\\n",
       "0            NaN    Afghanistan  33.0000  65.0000        0        0        0   \n",
       "1            NaN        Albania  41.1533  20.1683        0        0        0   \n",
       "2            NaN        Algeria  28.0339   1.6596        0        0        0   \n",
       "3            NaN        Andorra  42.5063   1.5218        0        0        0   \n",
       "4            NaN         Angola -11.2027  17.8739        0        0        0   \n",
       "\n",
       "   1/25/20  1/26/20  1/27/20  ...  4/28/20  4/29/20  4/30/20  5/1/20  5/2/20  \\\n",
       "0        0        0        0  ...     1828     1939     2171    2335    2469   \n",
       "1        0        0        0  ...      750      766      773     782     789   \n",
       "2        0        0        0  ...     3649     3848     4006    4154    4295   \n",
       "3        0        0        0  ...      743      743      745     745     747   \n",
       "4        0        0        0  ...       27       27       27      30      35   \n",
       "\n",
       "   5/3/20  5/4/20  5/5/20  5/6/20  5/7/20  \n",
       "0    2704    2894    3224    3392    3563  \n",
       "1     795     803     820     832     842  \n",
       "2    4474    4648    4838    4997    5182  \n",
       "3     748     750     751     751     752  \n",
       "4      35      35      36      36      36  \n",
       "\n",
       "[5 rows x 111 columns]"
      ]
     },
     "execution_count": 6,
     "metadata": {},
     "output_type": "execute_result"
    }
   ],
   "source": [
    "df_confirmed.head()"
   ]
  },
  {
   "cell_type": "code",
   "execution_count": 7,
   "metadata": {},
   "outputs": [],
   "source": [
    "df_confirmed = df_confirmed.rename(columns={\"Province/State\":\"state\",\"Country/Region\": \"country\"})\n",
    "df_deaths = df_deaths.rename(columns={\"Province/State\":\"state\",\"Country/Region\": \"country\"})\n",
    "df_recovered = df_recovered.rename(columns={\"Province/State\":\"state\",\"Country/Region\": \"country\"})"
   ]
  },
  {
   "cell_type": "code",
   "execution_count": 8,
   "metadata": {},
   "outputs": [],
   "source": [
    "# Changing the conuntry names as required by pycountry_convert Lib\n",
    "df_confirmed.loc[df_confirmed['country'] == \"US\", \"country\"] = \"USA\"\n",
    "df_deaths.loc[df_deaths['country'] == \"US\", \"country\"] = \"USA\"\n",
    "df_recovered.loc[df_recovered['country'] == \"US\", \"country\"] = \"USA\"\n",
    "\n",
    "df_confirmed.loc[df_confirmed['country'] == 'Korea, South', \"country\"] = 'South Korea'\n",
    "df_deaths.loc[df_deaths['country'] == 'Korea, South', \"country\"] = 'South Korea'\n",
    "df_recovered.loc[df_recovered['country'] == 'Korea, South', \"country\"] = 'South Korea'\n",
    "\n",
    "df_confirmed.loc[df_confirmed['country'] == 'Taiwan*', \"country\"] = 'Taiwan'\n",
    "df_deaths.loc[df_deaths['country'] == 'Taiwan*', \"country\"] = 'Taiwan'\n",
    "df_recovered.loc[df_recovered['country'] == 'Taiwan*', \"country\"] = 'Taiwan'\n",
    "\n",
    "df_confirmed.loc[df_confirmed['country'] == 'Congo (Kinshasa)', \"country\"] = 'Democratic Republic of the Congo'\n",
    "df_deaths.loc[df_deaths['country'] == 'Congo (Kinshasa)', \"country\"] = 'Democratic Republic of the Congo'\n",
    "df_recovered.loc[df_recovered['country'] == 'Congo (Kinshasa)', \"country\"] = 'Democratic Republic of the Congo'\n",
    "\n",
    "df_confirmed.loc[df_confirmed['country'] == \"Cote d'Ivoire\", \"country\"] = \"Côte d'Ivoire\"\n",
    "df_deaths.loc[df_deaths['country'] == \"Cote d'Ivoire\", \"country\"] = \"Côte d'Ivoire\"\n",
    "df_recovered.loc[df_recovered['country'] == \"Cote d'Ivoire\", \"country\"] = \"Côte d'Ivoire\"\n",
    "\n",
    "df_confirmed.loc[df_confirmed['country'] == \"Reunion\", \"country\"] = \"Réunion\"\n",
    "df_deaths.loc[df_deaths['country'] == \"Reunion\", \"country\"] = \"Réunion\"\n",
    "df_recovered.loc[df_recovered['country'] == \"Reunion\", \"country\"] = \"Réunion\"\n",
    "\n",
    "df_confirmed.loc[df_confirmed['country'] == 'Congo (Brazzaville)', \"country\"] = 'Republic of the Congo'\n",
    "df_deaths.loc[df_deaths['country'] == 'Congo (Brazzaville)', \"country\"] = 'Republic of the Congo'\n",
    "df_recovered.loc[df_recovered['country'] == 'Congo (Brazzaville)', \"country\"] = 'Republic of the Congo'\n",
    "\n",
    "df_confirmed.loc[df_confirmed['country'] == 'Bahamas, The', \"country\"] = 'Bahamas'\n",
    "df_deaths.loc[df_deaths['country'] == 'Bahamas, The', \"country\"] = 'Bahamas'\n",
    "df_recovered.loc[df_recovered['country'] == 'Bahamas, The', \"country\"] = 'Bahamas'\n",
    "\n",
    "df_confirmed.loc[df_confirmed['country'] == 'Gambia, The', \"country\"] = 'Gambia'\n",
    "df_deaths.loc[df_deaths['country'] == 'Gambia, The', \"country\"] = 'Gambia'\n",
    "df_recovered.loc[df_recovered['country'] == 'Gambia, The', \"country\"] = 'Gambia'\n",
    "\n",
    "# getting all countries\n",
    "countries = np.asarray(df_confirmed[\"country\"])"
   ]
  },
  {
   "cell_type": "code",
   "execution_count": 9,
   "metadata": {},
   "outputs": [
    {
     "data": {
      "text/html": [
       "<div>\n",
       "<style scoped>\n",
       "    .dataframe tbody tr th:only-of-type {\n",
       "        vertical-align: middle;\n",
       "    }\n",
       "\n",
       "    .dataframe tbody tr th {\n",
       "        vertical-align: top;\n",
       "    }\n",
       "\n",
       "    .dataframe thead th {\n",
       "        text-align: right;\n",
       "    }\n",
       "</style>\n",
       "<table border=\"1\" class=\"dataframe\">\n",
       "  <thead>\n",
       "    <tr style=\"text-align: right;\">\n",
       "      <th></th>\n",
       "      <th>state</th>\n",
       "      <th>country</th>\n",
       "      <th>Lat</th>\n",
       "      <th>Long</th>\n",
       "      <th>1/22/20</th>\n",
       "      <th>1/23/20</th>\n",
       "      <th>1/24/20</th>\n",
       "      <th>1/25/20</th>\n",
       "      <th>1/26/20</th>\n",
       "      <th>1/27/20</th>\n",
       "      <th>...</th>\n",
       "      <th>4/28/20</th>\n",
       "      <th>4/29/20</th>\n",
       "      <th>4/30/20</th>\n",
       "      <th>5/1/20</th>\n",
       "      <th>5/2/20</th>\n",
       "      <th>5/3/20</th>\n",
       "      <th>5/4/20</th>\n",
       "      <th>5/5/20</th>\n",
       "      <th>5/6/20</th>\n",
       "      <th>5/7/20</th>\n",
       "    </tr>\n",
       "  </thead>\n",
       "  <tbody>\n",
       "    <tr>\n",
       "      <td>0</td>\n",
       "      <td>NaN</td>\n",
       "      <td>Afghanistan</td>\n",
       "      <td>33.0000</td>\n",
       "      <td>65.0000</td>\n",
       "      <td>0</td>\n",
       "      <td>0.0</td>\n",
       "      <td>0.0</td>\n",
       "      <td>0.0</td>\n",
       "      <td>0.0</td>\n",
       "      <td>0.0</td>\n",
       "      <td>...</td>\n",
       "      <td>1542.0</td>\n",
       "      <td>1627.0</td>\n",
       "      <td>1847.0</td>\n",
       "      <td>1957.0</td>\n",
       "      <td>2066.0</td>\n",
       "      <td>2274.0</td>\n",
       "      <td>2407.0</td>\n",
       "      <td>2708.0</td>\n",
       "      <td>2830.0</td>\n",
       "      <td>2989.0</td>\n",
       "    </tr>\n",
       "    <tr>\n",
       "      <td>1</td>\n",
       "      <td>NaN</td>\n",
       "      <td>Albania</td>\n",
       "      <td>41.1533</td>\n",
       "      <td>20.1683</td>\n",
       "      <td>0</td>\n",
       "      <td>0.0</td>\n",
       "      <td>0.0</td>\n",
       "      <td>0.0</td>\n",
       "      <td>0.0</td>\n",
       "      <td>0.0</td>\n",
       "      <td>...</td>\n",
       "      <td>289.0</td>\n",
       "      <td>281.0</td>\n",
       "      <td>272.0</td>\n",
       "      <td>263.0</td>\n",
       "      <td>239.0</td>\n",
       "      <td>233.0</td>\n",
       "      <td>229.0</td>\n",
       "      <td>219.0</td>\n",
       "      <td>206.0</td>\n",
       "      <td>206.0</td>\n",
       "    </tr>\n",
       "    <tr>\n",
       "      <td>2</td>\n",
       "      <td>NaN</td>\n",
       "      <td>Algeria</td>\n",
       "      <td>28.0339</td>\n",
       "      <td>1.6596</td>\n",
       "      <td>0</td>\n",
       "      <td>0.0</td>\n",
       "      <td>0.0</td>\n",
       "      <td>0.0</td>\n",
       "      <td>0.0</td>\n",
       "      <td>0.0</td>\n",
       "      <td>...</td>\n",
       "      <td>1561.0</td>\n",
       "      <td>1702.0</td>\n",
       "      <td>1777.0</td>\n",
       "      <td>1880.0</td>\n",
       "      <td>1964.0</td>\n",
       "      <td>2075.0</td>\n",
       "      <td>2185.0</td>\n",
       "      <td>2301.0</td>\n",
       "      <td>2324.0</td>\n",
       "      <td>2376.0</td>\n",
       "    </tr>\n",
       "    <tr>\n",
       "      <td>3</td>\n",
       "      <td>NaN</td>\n",
       "      <td>Andorra</td>\n",
       "      <td>42.5063</td>\n",
       "      <td>1.5218</td>\n",
       "      <td>0</td>\n",
       "      <td>0.0</td>\n",
       "      <td>0.0</td>\n",
       "      <td>0.0</td>\n",
       "      <td>0.0</td>\n",
       "      <td>0.0</td>\n",
       "      <td>...</td>\n",
       "      <td>304.0</td>\n",
       "      <td>278.0</td>\n",
       "      <td>235.0</td>\n",
       "      <td>234.0</td>\n",
       "      <td>231.0</td>\n",
       "      <td>210.0</td>\n",
       "      <td>206.0</td>\n",
       "      <td>191.0</td>\n",
       "      <td>184.0</td>\n",
       "      <td>179.0</td>\n",
       "    </tr>\n",
       "    <tr>\n",
       "      <td>4</td>\n",
       "      <td>NaN</td>\n",
       "      <td>Angola</td>\n",
       "      <td>-11.2027</td>\n",
       "      <td>17.8739</td>\n",
       "      <td>0</td>\n",
       "      <td>0.0</td>\n",
       "      <td>0.0</td>\n",
       "      <td>0.0</td>\n",
       "      <td>0.0</td>\n",
       "      <td>0.0</td>\n",
       "      <td>...</td>\n",
       "      <td>19.0</td>\n",
       "      <td>18.0</td>\n",
       "      <td>18.0</td>\n",
       "      <td>17.0</td>\n",
       "      <td>22.0</td>\n",
       "      <td>22.0</td>\n",
       "      <td>22.0</td>\n",
       "      <td>23.0</td>\n",
       "      <td>23.0</td>\n",
       "      <td>23.0</td>\n",
       "    </tr>\n",
       "  </tbody>\n",
       "</table>\n",
       "<p>5 rows × 111 columns</p>\n",
       "</div>"
      ],
      "text/plain": [
       "  state      country      Lat     Long  1/22/20  1/23/20  1/24/20  1/25/20  \\\n",
       "0   NaN  Afghanistan  33.0000  65.0000        0      0.0      0.0      0.0   \n",
       "1   NaN      Albania  41.1533  20.1683        0      0.0      0.0      0.0   \n",
       "2   NaN      Algeria  28.0339   1.6596        0      0.0      0.0      0.0   \n",
       "3   NaN      Andorra  42.5063   1.5218        0      0.0      0.0      0.0   \n",
       "4   NaN       Angola -11.2027  17.8739        0      0.0      0.0      0.0   \n",
       "\n",
       "   1/26/20  1/27/20  ...  4/28/20  4/29/20  4/30/20  5/1/20  5/2/20  5/3/20  \\\n",
       "0      0.0      0.0  ...   1542.0   1627.0   1847.0  1957.0  2066.0  2274.0   \n",
       "1      0.0      0.0  ...    289.0    281.0    272.0   263.0   239.0   233.0   \n",
       "2      0.0      0.0  ...   1561.0   1702.0   1777.0  1880.0  1964.0  2075.0   \n",
       "3      0.0      0.0  ...    304.0    278.0    235.0   234.0   231.0   210.0   \n",
       "4      0.0      0.0  ...     19.0     18.0     18.0    17.0    22.0    22.0   \n",
       "\n",
       "   5/4/20  5/5/20  5/6/20  5/7/20  \n",
       "0  2407.0  2708.0  2830.0  2989.0  \n",
       "1   229.0   219.0   206.0   206.0  \n",
       "2  2185.0  2301.0  2324.0  2376.0  \n",
       "3   206.0   191.0   184.0   179.0  \n",
       "4    22.0    23.0    23.0    23.0  \n",
       "\n",
       "[5 rows x 111 columns]"
      ]
     },
     "execution_count": 9,
     "metadata": {},
     "output_type": "execute_result"
    }
   ],
   "source": [
    "df_active = df_confirmed.copy()\n",
    "df_active.iloc[:,5:] = df_active.iloc[:,5:] - df_recovered.iloc[:,5:] - df_deaths.iloc[:,5:]\n",
    "df_active.head(5)"
   ]
  },
  {
   "cell_type": "code",
   "execution_count": 10,
   "metadata": {},
   "outputs": [],
   "source": [
    "df_confirmed = df_confirmed.replace(np.nan, '', regex=True)\n",
    "df_deaths = df_deaths.replace(np.nan, '', regex=True)\n",
    "df_recovered = df_recovered.replace(np.nan, '', regex=True)\n",
    "df_active = df_active.replace(np.nan, '', regex=True)"
   ]
  },
  {
   "cell_type": "code",
   "execution_count": 11,
   "metadata": {},
   "outputs": [],
   "source": [
    "def get_total_cases(cases, country = \"All\"):\n",
    "    if(country == \"All\") :\n",
    "        return np.sum(np.asarray(cases.iloc[:,5:]),axis = 0)[-1]\n",
    "    else :\n",
    "        return np.sum(np.asarray(cases[cases[\"country\"] == country].iloc[:,5:]),axis = 0)[-1]\n",
    "    \n",
    "def get_mortality_rate(confirmed,deaths, continent = None, country = None):\n",
    "    if continent != None:\n",
    "        params = [\"continent\",continent]\n",
    "    elif country != None:\n",
    "        params = [\"country\",country]\n",
    "    else :\n",
    "        params = [\"All\", \"All\"]\n",
    "    \n",
    "    if params[1] == \"All\" :\n",
    "        Total_confirmed = np.sum(np.asarray(confirmed.iloc[:,5:]),axis = 0)\n",
    "        Total_deaths = np.sum(np.asarray(deaths.iloc[:,5:]),axis = 0)\n",
    "        mortality_rate = np.round((Total_deaths/Total_confirmed)*100,2)\n",
    "    else :\n",
    "        Total_confirmed =  np.sum(np.asarray(confirmed[confirmed[params[0]] == params[1]].iloc[:,5:]),axis = 0)\n",
    "        Total_deaths = np.sum(np.asarray(deaths[deaths[params[0]] == params[1]].iloc[:,5:]),axis = 0)\n",
    "        mortality_rate = np.round((Total_deaths/Total_confirmed)*100,2)\n",
    "    \n",
    "    return np.nan_to_num(mortality_rate)\n",
    "def dd(date1,date2):\n",
    "    return (datetime.strptime(date1,'%m/%d/%y') - datetime.strptime(date2,'%m/%d/%y')).days"
   ]
  },
  {
   "cell_type": "code",
   "execution_count": 12,
   "metadata": {},
   "outputs": [],
   "source": [
    "confirmed_cases =  df_confirmed.groupby([\"country\"]).sum().drop(['Lat','Long'],axis =1).iloc[:,-1]\n",
    "recovered_cases = df_recovered.groupby([\"country\"]).sum().drop(['Lat','Long'],axis =1).iloc[:,-1]\n",
    "deaths = df_deaths.groupby([\"country\"]).sum().drop(['Lat','Long'],axis =1).iloc[:,-1]\n",
    "active_cases = df_active.groupby([\"country\"]).sum().drop(['Lat','Long'],axis =1).iloc[:,-1]\n",
    "\n",
    "confirmed_cases.name = \"Confirmed Cases\"\n",
    "recovered_cases.name = \"Recovered Cases\"\n",
    "deaths.name = \"Deaths Reported\"\n",
    "active_cases.name = \"Active Cases\"\n",
    "df_countries_cases = pd.DataFrame([confirmed_cases,recovered_cases,deaths,active_cases]).transpose()"
   ]
  },
  {
   "cell_type": "code",
   "execution_count": 13,
   "metadata": {},
   "outputs": [
    {
     "data": {
      "text/html": [
       "<div>\n",
       "<style scoped>\n",
       "    .dataframe tbody tr th:only-of-type {\n",
       "        vertical-align: middle;\n",
       "    }\n",
       "\n",
       "    .dataframe tbody tr th {\n",
       "        vertical-align: top;\n",
       "    }\n",
       "\n",
       "    .dataframe thead th {\n",
       "        text-align: right;\n",
       "    }\n",
       "</style>\n",
       "<table border=\"1\" class=\"dataframe\">\n",
       "  <thead>\n",
       "    <tr style=\"text-align: right;\">\n",
       "      <th></th>\n",
       "      <th>Confirmed Cases</th>\n",
       "      <th>Recovered Cases</th>\n",
       "      <th>Deaths Reported</th>\n",
       "      <th>Active Cases</th>\n",
       "    </tr>\n",
       "    <tr>\n",
       "      <th>country</th>\n",
       "      <th></th>\n",
       "      <th></th>\n",
       "      <th></th>\n",
       "      <th></th>\n",
       "    </tr>\n",
       "  </thead>\n",
       "  <tbody>\n",
       "    <tr>\n",
       "      <td>Afghanistan</td>\n",
       "      <td>3563</td>\n",
       "      <td>468</td>\n",
       "      <td>106</td>\n",
       "      <td>0</td>\n",
       "    </tr>\n",
       "    <tr>\n",
       "      <td>Albania</td>\n",
       "      <td>842</td>\n",
       "      <td>605</td>\n",
       "      <td>31</td>\n",
       "      <td>0</td>\n",
       "    </tr>\n",
       "    <tr>\n",
       "      <td>Algeria</td>\n",
       "      <td>5182</td>\n",
       "      <td>2323</td>\n",
       "      <td>483</td>\n",
       "      <td>0</td>\n",
       "    </tr>\n",
       "    <tr>\n",
       "      <td>Andorra</td>\n",
       "      <td>752</td>\n",
       "      <td>526</td>\n",
       "      <td>47</td>\n",
       "      <td>0</td>\n",
       "    </tr>\n",
       "    <tr>\n",
       "      <td>Angola</td>\n",
       "      <td>36</td>\n",
       "      <td>11</td>\n",
       "      <td>2</td>\n",
       "      <td>0</td>\n",
       "    </tr>\n",
       "  </tbody>\n",
       "</table>\n",
       "</div>"
      ],
      "text/plain": [
       "             Confirmed Cases  Recovered Cases  Deaths Reported  Active Cases\n",
       "country                                                                     \n",
       "Afghanistan             3563              468              106             0\n",
       "Albania                  842              605               31             0\n",
       "Algeria                 5182             2323              483             0\n",
       "Andorra                  752              526               47             0\n",
       "Angola                    36               11                2             0"
      ]
     },
     "execution_count": 13,
     "metadata": {},
     "output_type": "execute_result"
    }
   ],
   "source": [
    "df_countries_cases.head()"
   ]
  },
  {
   "cell_type": "code",
   "execution_count": 14,
   "metadata": {},
   "outputs": [
    {
     "data": {
      "image/png": "[encoded data removed]",
      "text/plain": [
       "<Figure size 720x360 with 1 Axes>"
      ]
     },
     "metadata": {
      "needs_background": "light"
     },
     "output_type": "display_data"
    }
   ],
   "source": [
    "f = plt.figure(figsize=(10,5))\n",
    "f.add_subplot(111)\n",
    "\n",
    "plt.barh(df_countries_cases.sort_values('Confirmed Cases')[\"Confirmed Cases\"].index[-10:],df_countries_cases.sort_values('Confirmed Cases')[\"Confirmed Cases\"].values[-10:],)\n",
    "plt.tick_params(size=5,labelsize = 13)\n",
    "plt.xlabel(\"Confirmed Cases\",fontsize=18)\n",
    "plt.title(\"Top 10 Countries (Confirmed Cases)\",fontsize=20)\n",
    "# plt.savefig('Top 10 Countries (Confirmed Cases).png')\n",
    "plt.grid(alpha=0.3)"
   ]
  },
  {
   "cell_type": "code",
   "execution_count": 15,
   "metadata": {},
   "outputs": [
    {
     "data": {
      "image/png": "[encoded data removed]",
      "text/plain": [
       "<Figure size 720x360 with 1 Axes>"
      ]
     },
     "metadata": {
      "needs_background": "light"
     },
     "output_type": "display_data"
    }
   ],
   "source": [
    "f = plt.figure(figsize=(10,5))\n",
    "f.add_subplot(111)\n",
    "\n",
    "plt.barh(df_countries_cases.sort_values('Deaths Reported')[\"Deaths Reported\"].index[-10:],df_countries_cases.sort_values('Deaths Reported')[\"Deaths Reported\"].values[-10:])\n",
    "plt.tick_params(size=5,labelsize = 13)\n",
    "plt.xlabel(\"Confirmed Cases\",fontsize=18)\n",
    "plt.title(\"Top 10 Countries (Deaths Cases)\",fontsize=20)\n",
    "# plt.savefig('Top 10 Countries (Deaths Cases).png')\n",
    "plt.grid(alpha=0.3)"
   ]
  },
  {
   "cell_type": "code",
   "execution_count": 16,
   "metadata": {},
   "outputs": [],
   "source": [
    "Top10_Deaths=list(df_countries_cases.sort_values('Deaths Reported')[\"Deaths Reported\"].index[-10:])\n",
    "Top10_Confirmed=list(df_countries_cases.sort_values('Confirmed Cases')[\"Confirmed Cases\"].index[-10:])\n",
    "Top10_Recovered=list(df_countries_cases.sort_values('Recovered Cases')[\"Recovered Cases\"].index[-10:])\n",
    "Top10_Active=list(df_countries_cases.sort_values('Active Cases')[\"Active Cases\"].index[-10:])"
   ]
  },
  {
   "cell_type": "code",
   "execution_count": 17,
   "metadata": {},
   "outputs": [],
   "source": [
    "Top10_Confirmed=Reverse(list(df_countries_cases.sort_values('Confirmed Cases')[\"Confirmed Cases\"].index[-10:]))"
   ]
  },
  {
   "cell_type": "code",
   "execution_count": 18,
   "metadata": {},
   "outputs": [],
   "source": [
    "confirmed_series =  df_confirmed.groupby([\"country\"]).sum().drop(['Lat','Long'],axis =1).loc[Top10_Confirmed].T\n",
    "recovered_series = df_recovered.groupby([\"country\"]).sum().drop(['Lat','Long'],axis =1).loc[Top10_Confirmed].T\n",
    "deaths_series = df_deaths.groupby([\"country\"]).sum().drop(['Lat','Long'],axis =1).loc[Top10_Recovered].T\n",
    "active_series = df_active.groupby([\"country\"]).sum().drop(['Lat','Long'],axis =1).loc[Top10_Active].T"
   ]
  },
  {
   "cell_type": "code",
   "execution_count": 19,
   "metadata": {},
   "outputs": [
    {
     "data": {
      "application/vnd.jupyter.widget-view+json": {
       "model_id": "c49dc30cd43941fd8355e391443624ba",
       "version_major": 2,
       "version_minor": 0
      },
      "text/plain": [
       "interactive(children=(Output(),), _dom_classes=('widget-interact',))"
      ]
     },
     "metadata": {},
     "output_type": "display_data"
    }
   ],
   "source": [
    "#https://plotly.com/~ziwang/69/\n",
    "@interact\n",
    "def top10_confirmed_country():\n",
    "    confirmed_series.iplot(xTitle='Date', yTitle='Convirmed Cases',title='Top 10 country: Confirmed COVID-19 Cases',theme='solar')"
   ]
  },
  {
   "cell_type": "code",
   "execution_count": 20,
   "metadata": {},
   "outputs": [
    {
     "name": "stdout",
     "output_type": "stream",
     "text": [
      "['USA', 'Spain', 'Italy', 'United Kingdom', 'Russia', 'France', 'Germany', 'Brazil', 'Turkey', 'Iran', 'China', 'Canada', 'Peru', 'India', 'Belgium', 'Netherlands', 'Saudi Arabia', 'Ecuador', 'Switzerland', 'Mexico', 'Portugal', 'Pakistan', 'Sweden', 'Chile', 'Ireland', 'Singapore', 'Belarus', 'Qatar', 'Israel', 'United Arab Emirates', 'Austria', 'Japan', 'Poland', 'Romania', 'Ukraine', 'Indonesia', 'Bangladesh', 'South Korea', 'Philippines', 'Denmark', 'Serbia', 'Colombia', 'Dominican Republic', 'South Africa', 'Norway', 'Czechia', 'Egypt', 'Panama', 'Australia', 'Kuwait', 'Malaysia']\n"
     ]
    }
   ],
   "source": [
    "\n",
    "Top21_Confirmed=Reverse(list(df_countries_cases.sort_values('Confirmed Cases')[\"Confirmed Cases\"].index[-51:]))\n",
    "print(Top21_Confirmed)"
   ]
  },
  {
   "cell_type": "code",
   "execution_count": 21,
   "metadata": {},
   "outputs": [],
   "source": [
    "confirmed_series_21 =  df_confirmed.groupby([\"country\"]).sum().drop(['Lat','Long'],axis =1).loc[Top21_Confirmed].T"
   ]
  },
  {
   "cell_type": "code",
   "execution_count": 22,
   "metadata": {},
   "outputs": [
    {
     "data": {
      "application/vnd.jupyter.widget-view+json": {
       "model_id": "74b593ffd1bd4310815c410ce7f2d985",
       "version_major": 2,
       "version_minor": 0
      },
      "text/plain": [
       "interactive(children=(Output(),), _dom_classes=('widget-interact',))"
      ]
     },
     "metadata": {},
     "output_type": "display_data"
    }
   ],
   "source": [
    "#https://plotly.com/~ziwang/136/\n",
    "@interact\n",
    "def plot_top20country_confirmed_cases():\n",
    "    confirmed_series_21.iplot(subplots=True, shape=(17,3), shared_xaxes=True, fill=False,\n",
    "                              subplot_titles=True,legend=False, xTitle=\"\",yTitle=\"\",\n",
    "                              title='Top 51 countries: Confirmed COVID-19 Cases',theme='pearl')"
   ]
  },
  {
   "cell_type": "code",
   "execution_count": null,
   "metadata": {},
   "outputs": [],
   "source": []
  }
 ],
 "metadata": {
  "kernelspec": {
   "display_name": "Python 3",
   "language": "python",
   "name": "python3"
  },
  "language_info": {
   "codemirror_mode": {
    "name": "ipython",
    "version": 3
   },
   "file_extension": ".py",
   "mimetype": "text/x-python",
   "name": "python",
   "nbconvert_exporter": "python",
   "pygments_lexer": "ipython3",
   "version": "3.7.4"
  }
 },
 "nbformat": 4,
 "nbformat_minor": 2
}
